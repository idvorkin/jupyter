{
 "cells": [
  {
   "cell_type": "code",
   "execution_count": 35,
   "metadata": {
    "collapsed": true
   },
   "outputs": [],
   "source": [
    "class QueueFromStacks:\n",
    "    def __init__(self):\n",
    "        self.newOnTop = []\n",
    "        self.oldOnTop = []\n",
    "\n",
    "    def push(self, v):\n",
    "        self.newOnTop.append(v)\n",
    "\n",
    "    def pop(self):\n",
    "        if len(self.oldOnTop) == 0:\n",
    "            # take from new on top to build oldOnTop\n",
    "            while len(self.newOnTop) != 0:\n",
    "                self.oldOnTop.append(self.newOnTop.pop())\n",
    "        return self.oldOnTop.pop()"
   ]
  },
  {
   "cell_type": "code",
   "execution_count": 42,
   "metadata": {
    "collapsed": false
   },
   "outputs": [
    {
     "data": {
      "text/plain": [
       "8"
      ]
     },
     "execution_count": 42,
     "metadata": {},
     "output_type": "execute_result"
    }
   ],
   "source": [
    "m = QueueFromStacks()\n",
    "m.push(3)\n",
    "m.push(4)\n",
    "m.pop()\n",
    "m.push(6)\n",
    "m.pop()\n",
    "m.pop()\n",
    "m.push(8)\n",
    "m.pop()"
   ]
  }
 ],
 "metadata": {
  "kernelspec": {
   "display_name": "Python 3",
   "language": "python",
   "name": "python3"
  },
  "language_info": {
   "codemirror_mode": {
    "name": "ipython",
    "version": 3
   },
   "file_extension": ".py",
   "mimetype": "text/x-python",
   "name": "python",
   "nbconvert_exporter": "python",
   "pygments_lexer": "ipython3",
   "version": "3.5.1"
  }
 },
 "nbformat": 4,
 "nbformat_minor": 2
}
