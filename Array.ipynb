{
 "cells": [
  {
   "cell_type": "code",
   "execution_count": 17,
   "metadata": {
    "collapsed": false
   },
   "outputs": [],
   "source": [
    "# TODO: Still a bug in here\n",
    "def unsortedMin(xs, i, iMin):\n",
    "    assert (i > 0)\n",
    "    x = xs[i]\n",
    "    if not iMin:\n",
    "        iMin = i-1\n",
    "\n",
    "    assert (xs[iMin]!=x)\n",
    "       \n",
    "    if x > xs[iMin]: \n",
    "        return (iMin,xs[iMin])\n",
    "   \n",
    "\n",
    "    for i in range(iMin,0,-1):\n",
    "            isSorted = x >= xs[i]\n",
    "            if isSorted:\n",
    "                return (i+1,x)\n",
    "    return (0,x)\n",
    "    \n",
    "def unsortedRange(xs):\n",
    "    if not xs: return\n",
    "    if len(xs) == 1: return\n",
    "    maxValue = xs[0]\n",
    "    minValue = xs[0]\n",
    "    i = 1\n",
    "    iUnsortedMin = None\n",
    "    iUnsortedMax = None\n",
    "    for i in range (1, len(xs)):\n",
    "        x = xs[i]\n",
    "        inOrder = x >= maxValue\n",
    "        if inOrder:\n",
    "            maxValue = x\n",
    "        else:\n",
    "            (iUnsortedMin,minValue) = unsortedMin(xs,i,iUnsortedMin)\n",
    "            iUnsortedMax = i\n",
    "            print (i, iUnsortedMin, iUnsortedMax)\n",
    "            assert (iUnsortedMin < i)\n",
    "        \n",
    "    allSorted =  iUnsortedMin == None or iUnsortedMax == None\n",
    "    if allSorted:\n",
    "        assert (iUnsortedMin == None or iUnsortedMax == None)\n",
    "        return None\n",
    "    return (iUnsortedMin, iUnsortedMax)"
   ]
  },
  {
   "cell_type": "code",
   "execution_count": 18,
   "metadata": {
    "collapsed": false
   },
   "outputs": [
    {
     "name": "stdout",
     "output_type": "stream",
     "text": [
      "2 0 2\n"
     ]
    },
    {
     "data": {
      "text/plain": [
       "(0, 2)"
      ]
     },
     "execution_count": 18,
     "metadata": {},
     "output_type": "execute_result"
    }
   ],
   "source": [
    "unsortedRange([-3,1,0])"
   ]
  },
  {
   "cell_type": "code",
   "execution_count": 36,
   "metadata": {
    "collapsed": false
   },
   "outputs": [],
   "source": [
    "def plusOne(ds):\n",
    "    for i in range(len(ds)-1,-1,-1):\n",
    "        d = ds[i]\n",
    "        print((i,d))\n",
    "        if d < 9:\n",
    "            ds[i] = ds[i]+1\n",
    "            return\n",
    "        if d == 9:\n",
    "            if i == 0:\n",
    "                ds[0]=1\n",
    "                ds.append(0)\n",
    "            else:\n",
    "                ds[i]=0\n"
   ]
  },
  {
   "cell_type": "code",
   "execution_count": 42,
   "metadata": {
    "collapsed": false
   },
   "outputs": [
    {
     "name": "stdout",
     "output_type": "stream",
     "text": [
      "(4, 9)\n",
      "(3, 9)\n",
      "(2, 3)\n",
      "[1, 9, 4, 0, 0]\n"
     ]
    }
   ],
   "source": [
    "d = [1,9,3,9,9]\n",
    "plusOne(d)\n",
    "print(d)"
   ]
  },
  {
   "cell_type": "code",
   "execution_count": null,
   "metadata": {
    "collapsed": true
   },
   "outputs": [],
   "source": [
    "```"
   ]
  }
 ],
 "metadata": {
  "kernelspec": {
   "display_name": "Python 3",
   "language": "python",
   "name": "python3"
  },
  "language_info": {
   "codemirror_mode": {
    "name": "ipython",
    "version": 3
   },
   "file_extension": ".py",
   "mimetype": "text/x-python",
   "name": "python",
   "nbconvert_exporter": "python",
   "pygments_lexer": "ipython3",
   "version": "3.5.1"
  }
 },
 "nbformat": 4,
 "nbformat_minor": 0
}
