{
 "cells": [
  {
   "cell_type": "code",
   "execution_count": 31,
   "metadata": {
    "collapsed": false
   },
   "outputs": [],
   "source": [
    "# TODO: Still a bug in here\n",
    "def unsortedMin(xs, i, iMin):\n",
    "    assert (i > 0)\n",
    "    x = xs[i]\n",
    "    if not iMin:\n",
    "        iMin = i-1\n",
    "\n",
    "    assert (xs[iMin]!=x)\n",
    "       \n",
    "    if x > xs[iMin]: \n",
    "        return (iMin,xs[iMin])\n",
    "   \n",
    "\n",
    "    for i in range(iMin,0,-1):\n",
    "            isSorted = x >= xs[i]\n",
    "            if isSorted:\n",
    "                return (i+1,x)\n",
    "    return (0,x)\n",
    "    \n",
    "def unsortedRange(xs):\n",
    "    if not xs: return\n",
    "    if len(xs) == 1: return\n",
    "    maxValue = xs[0]\n",
    "    minValue = xs[0]\n",
    "    i = 1\n",
    "    iUnsortedMin = None\n",
    "    iUnsortedMax = None\n",
    "    for i in range (1, len(xs)):\n",
    "        x = xs[i]\n",
    "        inOrder = x >= maxValue\n",
    "        if inOrder:\n",
    "            maxValue = x\n",
    "        else:\n",
    "            (iUnsortedMin,minValue) = unsortedMin(xs,i,iUnsortedMin)\n",
    "            iUnsortedMax = i\n",
    "            print (i, iUnsortedMin, iUnsortedMax)\n",
    "            assert (iUnsortedMin < i)\n",
    "        \n",
    "    allSorted =  iUnsortedMin == None or iUnsortedMax == None\n",
    "    if allSorted:\n",
    "        assert (iUnsortedMin == None or iUnsortedMax == None)\n",
    "        return None\n",
    "    return (iUnsortedMin, iUnsortedMax)"
   ]
  },
  {
   "cell_type": "code",
   "execution_count": 30,
   "metadata": {
    "collapsed": false
   },
   "outputs": [
    {
     "name": "stdout",
     "output_type": "stream",
     "text": [
      "2 0 2\n"
     ]
    },
    {
     "data": {
      "text/plain": [
       "(0, 2)"
      ]
     },
     "execution_count": 30,
     "metadata": {},
     "output_type": "execute_result"
    }
   ],
   "source": [
    "unsortedRange([-3,1,0])"
   ]
  },
  {
   "cell_type": "code",
   "execution_count": null,
   "metadata": {
    "collapsed": true
   },
   "outputs": [],
   "source": []
  }
 ],
 "metadata": {
  "kernelspec": {
   "display_name": "Python [Root]",
   "language": "python",
   "name": "Python [Root]"
  },
  "language_info": {
   "codemirror_mode": {
    "name": "ipython",
    "version": 3
   },
   "file_extension": ".py",
   "mimetype": "text/x-python",
   "name": "python",
   "nbconvert_exporter": "python",
   "pygments_lexer": "ipython3",
   "version": "3.5.2"
  }
 },
 "nbformat": 4,
 "nbformat_minor": 0
}
