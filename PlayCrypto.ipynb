{
 "cells": [
  {
   "cell_type": "code",
   "execution_count": 1,
   "id": "a4552c68-2e66-4f1e-99c5-bac97af24b25",
   "metadata": {},
   "outputs": [],
   "source": [
    "# Play Crypto\n",
    "\n",
    "import base64\n",
    "import os\n",
    "from cryptography.fernet import Fernet\n",
    "from cryptography.hazmat.primitives import hashes\n",
    "from cryptography.hazmat.primitives.kdf.pbkdf2 import PBKDF2HMAC\n",
    "from cryptography.fernet import Fernet\n",
    "import base64\n",
    "import pickle\n",
    "import io\n",
    "from icecream import ic\n",
    "\n",
    "\n",
    "def make_crypto(password):\n",
    "    salt = b\"asdf234avzxc#$!asfb\"\n",
    "    iterations = 5 * 1000 * 1000\n",
    "    kdf = PBKDF2HMAC(\n",
    "        algorithm=hashes.SHA256(), length=32, salt=salt, iterations=iterations\n",
    "    )\n",
    "    key = base64.urlsafe_b64encode(kdf.derive(password))\n",
    "    return Fernet(key)\n",
    "\n",
    "\n",
    "def write_encrypt(crypto, obj, path):\n",
    "    plain_text = io.BytesIO()\n",
    "    pickle.dump(obj, plain_text)\n",
    "    plain_text.seek(0)  # reset read pointer\n",
    "    cipher_text = crypto.encrypt(plain_text.read())\n",
    "    open(path, \"wb\").write(cipher_text)\n",
    "\n",
    "\n",
    "def read_decrypt(crytpo, path):\n",
    "    cipher_text = open(path, \"rb\")\n",
    "    pickled = crypto.decrypt(cipher_text.read())\n",
    "    pickled_file = io.BytesIO(pickled)\n",
    "    obj = pickle.load(pickled_file)\n",
    "    return obj"
   ]
  },
  {
   "cell_type": "code",
   "execution_count": 8,
   "id": "47431bee-faf1-4849-b247-b1b5b707e6f8",
   "metadata": {},
   "outputs": [
    {
     "name": "stdout",
     "output_type": "stream",
     "text": [
      "2.09 s ± 21 ms per loop (mean ± std. dev. of 7 runs, 1 loop each)\n"
     ]
    }
   ],
   "source": [
    "%timeit crypto = make_crypto(b\"A\")"
   ]
  },
  {
   "cell_type": "code",
   "execution_count": 7,
   "id": "f046afb7-fee0-4843-99bd-ec969deeab9b",
   "metadata": {},
   "outputs": [
    {
     "name": "stderr",
     "output_type": "stream",
     "text": [
      "ic| input_string: 'Hewllo World'\n",
      "ic| input_string == round_trip: True\n"
     ]
    }
   ],
   "source": [
    "input_string = \"Hewllo World\"\n",
    "ic(input_string)\n",
    "o = input_string\n",
    "write_encrypt(crypto, o, os.path.expanduser(\"~/tmp/foo.md\"))\n",
    "round_trip = read_decrypt(crypto, os.path.expanduser(\"~/tmp/foo.md\"))\n",
    "ic(input_string == round_trip)\n",
    "None"
   ]
  },
  {
   "cell_type": "code",
   "execution_count": null,
   "id": "d98fb07d-ecc5-460d-9d9e-14c4aacc0172",
   "metadata": {},
   "outputs": [],
   "source": []
  }
 ],
 "metadata": {
  "kernelspec": {
   "display_name": "Python 3 (ipykernel)",
   "language": "python",
   "name": "python3"
  },
  "language_info": {
   "codemirror_mode": {
    "name": "ipython",
    "version": 3
   },
   "file_extension": ".py",
   "mimetype": "text/x-python",
   "name": "python",
   "nbconvert_exporter": "python",
   "pygments_lexer": "ipython3",
   "version": "3.10.9"
  }
 },
 "nbformat": 4,
 "nbformat_minor": 5
}
