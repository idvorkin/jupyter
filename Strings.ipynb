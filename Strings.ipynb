{
 "cells": [
  {
   "cell_type": "code",
   "execution_count": 27,
   "metadata": {
    "collapsed": false
   },
   "outputs": [
    {
     "name": "stdout",
     "output_type": "stream",
     "text": [
      "<start>  hi there  joe a b   <end>\n"
     ]
    }
   ],
   "source": [
    "def reverse(s,start,end):\n",
    "    while (start < end):\n",
    "        # swap\n",
    "        s[start], s[end]  = s[end],s[start]\n",
    "        # move pointers in\n",
    "        start=start+1\n",
    "        end = end-1\n",
    "        \n",
    "def words(s):\n",
    "    start = 0\n",
    "    for i in range (len(s)):\n",
    "        on_delimeter =  s[i] == \" \"\n",
    "        if on_delimeter: \n",
    "            conscutiveSpace = i == start\n",
    "            if conscutiveSpace: \n",
    "                start = start+1\n",
    "                continue\n",
    "                \n",
    "            end = i-1 # letter before delim\n",
    "            yield (start,end)\n",
    "            start = i+1 # letter after delim\n",
    "            \n",
    "    lastDelimIsSpace = start == len(s)        \n",
    "    if lastDelimIsSpace: \n",
    "        return\n",
    "    \n",
    "    yield (start,len(s)-1)\n",
    "\n",
    "def reverseWords(s) : \n",
    "    for w in words(s): reverse(s,*w)\n",
    "        \n",
    "s=[*\"  hi there  joe a b   \"]\n",
    "print  (\"<start>\"+''.join(s)+\"<end>\")\n",
    "            \n",
    "        "
   ]
  },
  {
   "cell_type": "code",
   "execution_count": 24,
   "metadata": {
    "collapsed": false
   },
   "outputs": [
    {
     "name": "stdout",
     "output_type": "stream",
     "text": [
      "4 5\n"
     ]
    }
   ],
   "source": [
    "import collections\n",
    "Word = collections.namedtuple(\"Word\",['start','end'])\n",
    "w = Word(4,5)\n",
    "print (*w)"
   ]
  },
  {
   "cell_type": "code",
   "execution_count": null,
   "metadata": {
    "collapsed": true
   },
   "outputs": [],
   "source": [
    "k"
   ]
  }
 ],
 "metadata": {
  "kernelspec": {
   "display_name": "Python 3",
   "language": "python",
   "name": "python3"
  },
  "language_info": {
   "codemirror_mode": {
    "name": "ipython",
    "version": 3
   },
   "file_extension": ".py",
   "mimetype": "text/x-python",
   "name": "python",
   "nbconvert_exporter": "python",
   "pygments_lexer": "ipython3",
   "version": "3.5.1"
  }
 },
 "nbformat": 4,
 "nbformat_minor": 0
}
