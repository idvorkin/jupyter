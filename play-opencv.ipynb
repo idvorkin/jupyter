{
 "cells": [
  {
   "cell_type": "code",
   "execution_count": 31,
   "id": "811cfbad-9076-4078-a8ec-826d9d063138",
   "metadata": {
    "tags": []
   },
   "outputs": [],
   "source": [
    "# Open CV"
   ]
  },
  {
   "cell_type": "code",
   "execution_count": 70,
   "id": "dc011247-ae01-44e2-b948-2494fc940d34",
   "metadata": {},
   "outputs": [],
   "source": [
    "from matplotlib import pyplot as plt\n",
    "import cv2\n",
    "from IPython.display import display, Image, clear_output"
   ]
  },
  {
   "cell_type": "code",
   "execution_count": 71,
   "id": "c5361605-30df-40e4-8d03-ddc594008a05",
   "metadata": {},
   "outputs": [],
   "source": [
    "%run \"~/rare_gits/video-edit/cv_helper.py\""
   ]
  },
  {
   "cell_type": "code",
   "execution_count": 72,
   "id": "f518fb84-f0c2-422f-8901-00ae2736be18",
   "metadata": {},
   "outputs": [],
   "source": [
    "%run \"~/rare_gits/video-edit/filter-to-motion.py\""
   ]
  },
  {
   "cell_type": "code",
   "execution_count": 82,
   "id": "a148af15-426c-4f68-b122-758defdabc60",
   "metadata": {},
   "outputs": [],
   "source": [
    "basename = \"output.mp4\"\n",
    "input_video_path = \"~/downloads/igor-magic.mp4\""
   ]
  },
  {
   "cell_type": "code",
   "execution_count": 83,
   "id": "a0ea4775-3ce8-4553-a891-219115ccbf2d",
   "metadata": {},
   "outputs": [],
   "source": [
    "# process_video(basename, input_video)"
   ]
  },
  {
   "cell_type": "code",
   "execution_count": 84,
   "id": "fe69174b-0836-4585-b027-02c64c36ce87",
   "metadata": {},
   "outputs": [
    {
     "data": {
      "text/plain": [
       "<VideoCapture 0x7fbfa61e2b30>"
      ]
     },
     "execution_count": 84,
     "metadata": {},
     "output_type": "execute_result"
    }
   ],
   "source": [
    "input_video"
   ]
  },
  {
   "cell_type": "code",
   "execution_count": 85,
   "id": "fbc522bc-92db-4e7c-9d44-b2ae39c02264",
   "metadata": {},
   "outputs": [],
   "source": [
    "def pv2(base_filename: str, input_video):\n",
    "\n",
    "    state = FrameState(0, 0)\n",
    "\n",
    "    width = input_video.get(cv2.CAP_PROP_FRAME_WIDTH)  # float `width`\n",
    "    height = input_video.get(cv2.CAP_PROP_FRAME_HEIGHT)  # float `height`\n",
    "    in_fps = input_video.get(cv2.CAP_PROP_FPS)  # float `height`\n",
    "    frame_count = int(input_video.get(cv2.CAP_PROP_FRAME_COUNT))\n",
    "    ic(width, height, in_fps, frame_count)\n",
    "\n",
    "    unique_filename = f\"{base_filename}_unique.mp4\"\n",
    "    output_unique = LazyVideoWriter(unique_filename, in_fps)\n",
    "    mask_filename = f\"{base_filename}_mask.mp4\"\n",
    "    output_unique_mask = LazyVideoWriter(mask_filename, in_fps)\n",
    "    output_video_files = [output_unique, output_unique_mask]\n",
    "    debug_window_refresh_rate = 100\n",
    "\n",
    "    # start the FPS timer\n",
    "    fps = FPS().start()\n",
    "    with typer.progressbar(length=frame_count, label=\"Processing Video\") as progress:\n",
    "        for (idx, original_frame) in enumerate(video_reader(input_video)):\n",
    "            # Update UX counters\n",
    "            fps.update()\n",
    "            progress.update(1)\n",
    "            state.idx = idx\n",
    "\n",
    "            # PERF: Processing at 1/4 size boosts FPS by TK%\n",
    "            in_frame = shrink_image_half(original_frame)\n",
    "\n",
    "\n",
    "            # PERF: Motion Mask sampled frames\n",
    "            motion_mask = to_motion_mask_fast(state, in_frame)\n",
    "\n",
    "            # skip frames with no motion\n",
    "            if is_frame_black(motion_mask):\n",
    "                continue\n",
    "\n",
    "            # PERF - show_debug_window at on sampled frames\n",
    "            if idx % debug_window_refresh_rate == 0:\n",
    "                debug_frame = create_analyze_debug_frame(in_frame, motion_mask)\n",
    "                burn_in_debug_info(debug_frame, idx, in_fps)\n",
    "                # cv2.imshow(f\"{base_filename} Input\", shrink_image_half(debug_frame))\n",
    "                # cv2.waitKey(1)\n",
    "                _, jpg = cv2.imencode('.jpeg', original_frame)\n",
    "                clear_output(True)\n",
    "                display(Image(data=jpg.tobytes()))\n",
    "                print (\"Hello\")\n",
    "                if idx > 1000: break\n",
    "\n",
    "            output_unique.write(original_frame)\n",
    "\n",
    "            # masked_input = cv2.bitwise_and(in_frame, in_frame, mask=motion_mask)\n",
    "            # output_unique_mask.write(masked_input)\n",
    "\n",
    "    # stop the timer and display FPS information\n",
    "    fps.stop()\n",
    "    ic(int(fps.fps()), int(fps.elapsed()))\n",
    "\n",
    "    cv2.destroyAllWindows()\n",
    "    for f in output_video_files:\n",
    "        f.release()"
   ]
  },
  {
   "cell_type": "code",
   "execution_count": 86,
   "id": "687655a4-f097-40d3-bfbb-570f31495c7a",
   "metadata": {},
   "outputs": [
    {
     "name": "stderr",
     "output_type": "stream",
     "text": [
      "ic| width: 0.0, height: 0.0, in_fps: 0.0, frame_count: 0\n",
      "ic| int(fps.fps()): 0, int(fps.elapsed()): 0\n"
     ]
    }
   ],
   "source": [
    "try: \n",
    "    input_video = cv2.VideoCapture(input_video_path)\n",
    "    pv2(basename,input_video)\n",
    "except Exception as e:\n",
    "    ic(e)"
   ]
  },
  {
   "cell_type": "code",
   "execution_count": null,
   "id": "5e11f8f7-81d1-490d-9f74-85d2dddf5616",
   "metadata": {},
   "outputs": [],
   "source": []
  }
 ],
 "metadata": {
  "kernelspec": {
   "display_name": "Python 3 (ipykernel)",
   "language": "python",
   "name": "python3"
  },
  "language_info": {
   "codemirror_mode": {
    "name": "ipython",
    "version": 3
   },
   "file_extension": ".py",
   "mimetype": "text/x-python",
   "name": "python",
   "nbconvert_exporter": "python",
   "pygments_lexer": "ipython3",
   "version": "3.9.6"
  }
 },
 "nbformat": 4,
 "nbformat_minor": 5
}
