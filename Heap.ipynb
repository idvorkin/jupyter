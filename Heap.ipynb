{
 "cells": [
  {
   "cell_type": "code",
   "execution_count": 8,
   "metadata": {},
   "outputs": [],
   "source": [
    "from typing import List, Set, Dict, Tuple, Optional\n",
    "\n",
    "\n",
    "def lhs(i):\n",
    "    return 2 * i + 1\n",
    "\n",
    "\n",
    "def rhs(i):\n",
    "    return 2 * i + 2\n",
    "\n",
    "\n",
    "def parent(i):\n",
    "    return int((i - 2) / 2 if isEven(i) else (i - 1) / 2)\n",
    "\n",
    "\n",
    "def isEven(i):\n",
    "    return i % 2 == 0\n",
    "\n",
    "\n",
    "def heapify_up(storage, lastElement=None):\n",
    "\n",
    "    if not lastElement:\n",
    "        lastElement = len(storage) - 1\n",
    "\n",
    "    # push bottom element up as needed.\n",
    "    i = lastElement\n",
    "\n",
    "    while i != 0:\n",
    "        if storage[i] <= storage[parent(i)]:\n",
    "            return\n",
    "\n",
    "        # swap and move to kids.\n",
    "        (storage[i], storage[parent(i)]) = (storage[parent(i)], storage[i])\n",
    "        i = parent(i)\n",
    "\n",
    "\n",
    "def heapify_down(storage):\n",
    "    # push first element down till we're a valid heap, or done.\n",
    "    i = 0\n",
    "\n",
    "    while i < len(storage):  # we're not in the end pos.\n",
    "        # Watch to make sure we do the last iteration --\n",
    "\n",
    "        validLHS = lhs(i) < len(storage)\n",
    "        validRHS = rhs(i) < len(storage)\n",
    "\n",
    "        isLeaf = not validRHS and not validLHS\n",
    "\n",
    "        if isLeaf:\n",
    "            return\n",
    "\n",
    "        isOnlyLHS = not validRHS\n",
    "\n",
    "        if isOnlyLHS:\n",
    "            if storage[i] < storage[lhs(i)]:\n",
    "                (storage[i], storage[lhs(i)]) = (storage[lhs(i)], storage[i])\n",
    "            return  # no more nodes.\n",
    "\n",
    "        # we have a RHS and a LHS swap with the biggest.\n",
    "        vLHS = storage[lhs(i)]\n",
    "        vRHS = storage[rhs(i)]\n",
    "        iMax = lhs(i) if vLHS > vRHS else rhs(i)\n",
    "\n",
    "        if storage[i] >= storage[iMax]:\n",
    "            # we're already a heap\n",
    "            return\n",
    "\n",
    "        (storage[i], storage[iMax]) = (storage[iMax], storage[i])\n",
    "        i = iMax\n",
    "\n",
    "\n",
    "# todo parameterize min/max heap\n",
    "class Heap:\n",
    "    def __init__(self):\n",
    "        self.storage: List[int] = []\n",
    "\n",
    "    def last(self, i):\n",
    "        len(self.storage) - 1\n",
    "\n",
    "    def head(self):\n",
    "        if not self.storage:\n",
    "            return None\n",
    "        return self.storage[0]\n",
    "\n",
    "    def push(self, i):\n",
    "        # add an element to the end\n",
    "        self.storage.append(i)\n",
    "        heapify_up(self.storage)\n",
    "\n",
    "    def pop(self):\n",
    "        # handle last element.\n",
    "        # store first element\n",
    "        ret = self.storage[0]\n",
    "        # place last element in first slot\n",
    "        last = self.storage.pop()\n",
    "        if not self.storage:\n",
    "            # last element popped\n",
    "            return last\n",
    "\n",
    "        self.storage[0] = last\n",
    "        heapify_down(self.storage)\n",
    "        return ret\n",
    "\n",
    "    def __str__(self):\n",
    "        return str(self.storage)"
   ]
  },
  {
   "cell_type": "code",
   "execution_count": 6,
   "metadata": {
    "collapsed": false,
    "jupyter": {
     "outputs_hidden": false
    }
   },
   "outputs": [
    {
     "name": "stdout",
     "output_type": "stream",
     "text": [
      "770\n",
      "-2512\n",
      "-3650\n",
      "-3953\n",
      "-5231\n",
      "-8850\n",
      "-9009\n"
     ]
    }
   ],
   "source": [
    "import random\n",
    "\n",
    "h = Heap()\n",
    "\n",
    "for i in range(7):\n",
    "    h.push(random.randint(-9999, 999))\n",
    "for i in range(7):\n",
    "    print(h.pop())"
   ]
  },
  {
   "cell_type": "code",
   "execution_count": 7,
   "metadata": {
    "collapsed": false,
    "jupyter": {
     "outputs_hidden": false
    },
    "lines_to_next_cell": 2
   },
   "outputs": [
    {
     "name": "stdout",
     "output_type": "stream",
     "text": [
      "[117, 135, 157, 93, 168, 47, 58, 72, 112, 14, 176, 48, 76, 11, 126]\n",
      "176\n",
      "168\n",
      "157\n",
      "135\n",
      "126\n",
      "117\n",
      "112\n",
      "93\n",
      "76\n",
      "72\n",
      "58\n",
      "48\n",
      "47\n",
      "14\n",
      "11\n"
     ]
    }
   ],
   "source": [
    "r = [random.randint(0, 200) for i in range(15)]\n",
    "print(r)\n",
    "for i in range(len(r)):\n",
    "    heapify_up(r, i)\n",
    "z = Heap()\n",
    "z.storage = r\n",
    "for i in range(len(r)):\n",
    "    print(z.pop())"
   ]
  },
  {
   "cell_type": "code",
   "execution_count": null,
   "metadata": {
    "collapsed": true,
    "jupyter": {
     "outputs_hidden": true
    }
   },
   "outputs": [],
   "source": []
  },
  {
   "cell_type": "code",
   "execution_count": null,
   "metadata": {
    "collapsed": true,
    "jupyter": {
     "outputs_hidden": true
    }
   },
   "outputs": [],
   "source": []
  },
  {
   "cell_type": "code",
   "execution_count": null,
   "metadata": {
    "collapsed": true,
    "jupyter": {
     "outputs_hidden": true
    }
   },
   "outputs": [],
   "source": []
  }
 ],
 "metadata": {
  "kernelspec": {
   "display_name": "Python 3",
   "language": "python",
   "name": "python3"
  },
  "language_info": {
   "codemirror_mode": {
    "name": "ipython",
    "version": 3
   },
   "file_extension": ".py",
   "mimetype": "text/x-python",
   "name": "python",
   "nbconvert_exporter": "python",
   "pygments_lexer": "ipython3",
   "version": "3.7.6"
  }
 },
 "nbformat": 4,
 "nbformat_minor": 2
}
