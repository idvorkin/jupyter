{
 "cells": [
  {
   "cell_type": "code",
   "execution_count": 127,
   "metadata": {
    "collapsed": false
   },
   "outputs": [],
   "source": [
    "def lhs(i): return 2*i + 1\n",
    "def rhs(i): return 2*i + 2\n",
    "def parent(i): return int((i - 2)/2 if isEven(i) else (i-1) /2)\n",
    "def isEven(i): return i%2 == 0\n",
    "\n",
    "def heapify_up(storage, lastElement=None):\n",
    "    \n",
    "    if not lastElement:\n",
    "        lastElement = len(storage)  -1 \n",
    "        \n",
    "    # push bottom element up as needed.\n",
    "    i = lastElement\n",
    "    \n",
    "    while i != 0:\n",
    "        if storage[i] <= storage[parent(i)]: \n",
    "            return \n",
    "        \n",
    "        # swap and move to kids.\n",
    "        (storage[i], storage[parent(i)]) = (storage[parent(i)],storage[i])\n",
    "        i = parent(i)\n",
    "            \n",
    "\n",
    "def heapify_down(storage):\n",
    "    # push first element down till we're a valid heap, or done.\n",
    "    i = 0;\n",
    "    \n",
    "    while (i < len(storage)): # we're not in the end pos.\n",
    "        # Watch to make sure we do the last iteration -- \n",
    "        \n",
    "        validLHS = lhs(i) < len(storage)\n",
    "        validRHS = rhs(i) < len (storage)\n",
    "        \n",
    "        isLeaf =  not validRHS and not validLHS \n",
    "        \n",
    "        if isLeaf: return\n",
    "        \n",
    "        isOnlyLHS = not validRHS\n",
    "        \n",
    "        if isOnlyLHS: \n",
    "            if (storage[i] <  storage[lhs(i)]):\n",
    "                (storage[i], storage[lhs(i)]) = (storage[lhs(i)], storage[i])\n",
    "            return # no more nodes.\n",
    "        \n",
    "        # we have a RHS and a LHS swap with the biggest.\n",
    "        vLHS = storage[lhs(i)]\n",
    "        vRHS = storage[rhs(i)]\n",
    "        iMax = lhs(i) if vLHS > vRHS else rhs(i)\n",
    "        \n",
    "        if (storage[i] >= storage[iMax]):\n",
    "            # we're already a heap\n",
    "            return \n",
    "        \n",
    "        (storage[i], storage[iMax]) = (storage[iMax], storage[i])\n",
    "        i = iMax\n",
    "    \n",
    "# todo parameterize min/max heap\n",
    "class Heap:\n",
    "    def __init__ (self):\n",
    "        self.storage = []\n",
    "    def last(self, i): len(self.storage) - 1\n",
    "        \n",
    "    def head (self):\n",
    "       if not self.storage: return None\n",
    "       return self.storage[0]\n",
    "    \n",
    "    def push(self, i) :\n",
    "        # add an element to the end\n",
    "        self.storage.append(i)\n",
    "        heapify_up(self.storage)\n",
    "        \n",
    "    def pop(self) :\n",
    "        # handle last element.\n",
    "        # store first element\n",
    "        ret = self.storage[0]\n",
    "        # place last element in first slot\n",
    "        last = self.storage.pop()\n",
    "        if  not self.storage:\n",
    "            # last element popped\n",
    "            return last\n",
    "            \n",
    "        self.storage[0] = last\n",
    "        heapify_down(self.storage)\n",
    "        return ret\n",
    "    \n",
    "    def __str__(self): return str(self.storage)\n",
    "        \n",
    "            \n",
    "            "
   ]
  },
  {
   "cell_type": "code",
   "execution_count": 134,
   "metadata": {
    "collapsed": false
   },
   "outputs": [
    {
     "name": "stdout",
     "output_type": "stream",
     "text": [
      "-2179\n",
      "-2584\n",
      "-4216\n",
      "-5235\n",
      "-7474\n",
      "-8009\n",
      "-8841\n"
     ]
    }
   ],
   "source": [
    "import random \n",
    "for i in range(7): h.push(random.randint(-9999,999))\n",
    "for i in range(7): print (h.pop())"
   ]
  },
  {
   "cell_type": "code",
   "execution_count": 141,
   "metadata": {
    "collapsed": false
   },
   "outputs": [
    {
     "name": "stdout",
     "output_type": "stream",
     "text": [
      "[170, 183, 119, 96, 67, 105, 11, 7, 48, 74, 185, 10, 6, 13, 132]\n",
      "185\n",
      "183\n",
      "170\n",
      "132\n",
      "119\n",
      "105\n",
      "96\n",
      "74\n",
      "67\n",
      "48\n",
      "13\n",
      "11\n",
      "10\n",
      "7\n",
      "6\n"
     ]
    }
   ],
   "source": [
    "r = [random.randint(0,200) for i in range(15)]\n",
    "print (r)\n",
    "for i in range (len(r)): heapify_up(r,i)\n",
    "z = Heap()\n",
    "z.storage = r\n",
    "for i in range(len(r)): print(z.pop())\n",
    "\n"
   ]
  },
  {
   "cell_type": "code",
   "execution_count": null,
   "metadata": {
    "collapsed": true
   },
   "outputs": [],
   "source": []
  },
  {
   "cell_type": "code",
   "execution_count": null,
   "metadata": {
    "collapsed": true
   },
   "outputs": [],
   "source": []
  },
  {
   "cell_type": "code",
   "execution_count": null,
   "metadata": {
    "collapsed": true
   },
   "outputs": [],
   "source": []
  }
 ],
 "metadata": {
  "kernelspec": {
   "display_name": "Python 3",
   "language": "python",
   "name": "python3"
  },
  "language_info": {
   "codemirror_mode": {
    "name": "ipython",
    "version": 3
   },
   "file_extension": ".py",
   "mimetype": "text/x-python",
   "name": "python",
   "nbconvert_exporter": "python",
   "pygments_lexer": "ipython3",
   "version": "3.5.1"
  }
 },
 "nbformat": 4,
 "nbformat_minor": 0
}
