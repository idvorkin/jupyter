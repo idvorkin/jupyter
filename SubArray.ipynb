{
 "cells": [
  {
   "cell_type": "code",
   "execution_count": 16,
   "metadata": {
    "collapsed": false
   },
   "outputs": [
    {
     "name": "stdout",
     "output_type": "stream",
     "text": [
      "1\n",
      "(10, 20)\n",
      "None\n"
     ]
    }
   ],
   "source": [
    "def len1d(x): return x[1] - x[0]\n",
    "def smallest(x,y):\n",
    "    if not x or not y: return None\n",
    "    return x if len1d(x) < len1d(y) else y\n",
    "    \n",
    "    \n",
    "print (len1d((3,4)))\n",
    "print (smallest((100,200), (10,20)))\n",
    "print (smallest(None, (10,20)))"
   ]
  },
  {
   "cell_type": "code",
   "execution_count": 35,
   "metadata": {
    "collapsed": false
   },
   "outputs": [],
   "source": [
    "def getRange(d): \n",
    "    t = list(d.values())\n",
    "    if [1 for x in t if x is None]: return None\n",
    "    t.sort()\n",
    "    return (t[0], t[-1])\n",
    "def minSubArray(xs,vals):\n",
    "    lastSeen = {}\n",
    "    for val in vals: lastSeen[val] = None\n",
    "    \n",
    "    minRange = None\n",
    "    for x in xs: \n",
    "        if x in lastSeen:\n",
    "            lastSeen[x] = val\n",
    "            minRange =  smallest(getRange(lastSeen), minRange)\n",
    "    return minRange        \n",
    "            \n",
    "        \n",
    "    "
   ]
  },
  {
   "cell_type": "code",
   "execution_count": 38,
   "metadata": {
    "collapsed": false
   },
   "outputs": [
    {
     "name": "stdout",
     "output_type": "stream",
     "text": [
      "None\n"
     ]
    }
   ],
   "source": [
    "xs = list(\"aaaaaaacaaaaaaaaaaaaaaabfffffffffffffffffffffffefdddd\")\n",
    "ss = list(\"acd\")\n",
    "print (minSubArray(xs,ss))"
   ]
  },
  {
   "cell_type": "code",
   "execution_count": null,
   "metadata": {
    "collapsed": true
   },
   "outputs": [],
   "source": []
  }
 ],
 "metadata": {
  "kernelspec": {
   "display_name": "Python [Root]",
   "language": "python",
   "name": "Python [Root]"
  },
  "language_info": {
   "codemirror_mode": {
    "name": "ipython",
    "version": 3
   },
   "file_extension": ".py",
   "mimetype": "text/x-python",
   "name": "python",
   "nbconvert_exporter": "python",
   "pygments_lexer": "ipython3",
   "version": "3.5.2"
  }
 },
 "nbformat": 4,
 "nbformat_minor": 0
}
