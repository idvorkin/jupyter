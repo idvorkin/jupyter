{
 "cells": [
  {
   "cell_type": "code",
   "execution_count": 1,
   "metadata": {
    "collapsed": false
   },
   "outputs": [
    {
     "name": "stdout",
     "output_type": "stream",
     "text": [
      "1\n",
      "(10, 20)\n",
      "(10, 20)\n"
     ]
    }
   ],
   "source": [
    "def len1d(x):\n",
    "    return x[1] - x[0]\n",
    "\n",
    "\n",
    "def smallest(x, y):\n",
    "    if not x:\n",
    "        return y\n",
    "    if not y:\n",
    "        return x\n",
    "    return x if len1d(x) < len1d(y) else y\n",
    "\n",
    "\n",
    "print(len1d((3, 4)))\n",
    "print(smallest((100, 200), (10, 20)))\n",
    "print(smallest(None, (10, 20)))"
   ]
  },
  {
   "cell_type": "code",
   "execution_count": 6,
   "metadata": {
    "collapsed": false
   },
   "outputs": [
    {
     "data": {
      "text/plain": [
       "'\\ndef getRange(d):\\n    t = list(d.values())\\n    if [1 for x in t if x is None]:\\n        return None\\n    t.sort()\\n    r = (t[0], t[-1])\\n    print(r)\\n    return r\\n\\n\\ndef minSubArray(xs, vals):\\n    lastSeenIndex = dict(zip(vals, repeat(None)))\\n    for val in vals:\\n        lastSeen[val] = None\\n\\n    minRange = None\\n    for (i, x) in enumerate(xs):\\n        if x in lastSeenIndex:\\n            lastSeenIndex[x] = i\\n            minRange = smallest(getRange(lastSeenIndex), minRange)\\n    return minRange\\n'"
      ]
     },
     "execution_count": 6,
     "metadata": {},
     "output_type": "execute_result"
    }
   ],
   "source": [
    "from itertools import *\n",
    "\n",
    "# No idea what i was trying to do here.\n",
    "\n",
    "\"\"\"\n",
    "def getRange(d):\n",
    "    t = list(d.values())\n",
    "    if [1 for x in t if x is None]:\n",
    "        return None\n",
    "    t.sort()\n",
    "    r = (t[0], t[-1])\n",
    "    print(r)\n",
    "    return r\n",
    "\n",
    "\n",
    "def minSubArray(xs, vals):\n",
    "    lastSeenIndex = dict(zip(vals, repeat(None)))\n",
    "    for val in vals:\n",
    "        lastSeen[val] = None\n",
    "\n",
    "    minRange = None\n",
    "    for (i, x) in enumerate(xs):\n",
    "        if x in lastSeenIndex:\n",
    "            lastSeenIndex[x] = i\n",
    "            minRange = smallest(getRange(lastSeenIndex), minRange)\n",
    "    return minRange\n",
    "\"\"\""
   ]
  },
  {
   "cell_type": "code",
   "execution_count": 8,
   "metadata": {
    "collapsed": false
   },
   "outputs": [],
   "source": [
    "xs = list(\"aaaacmmmmadaaaabffffffffffcmm3134daffffffffffffecdefaddd\")\n",
    "ss = list(\"acd\")\n",
    "# print(minSubArray(xs, ss))"
   ]
  },
  {
   "cell_type": "code",
   "execution_count": null,
   "metadata": {
    "collapsed": true
   },
   "outputs": [],
   "source": []
  }
 ],
 "metadata": {
  "kernelspec": {
   "display_name": "Python 3",
   "language": "python",
   "name": "python3"
  },
  "language_info": {
   "codemirror_mode": {
    "name": "ipython",
    "version": 3
   },
   "file_extension": ".py",
   "mimetype": "text/x-python",
   "name": "python",
   "nbconvert_exporter": "python",
   "pygments_lexer": "ipython3",
   "version": "3.7.1"
  }
 },
 "nbformat": 4,
 "nbformat_minor": 2
}
