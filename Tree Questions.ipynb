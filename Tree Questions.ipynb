{
 "cells": [
  {
   "cell_type": "code",
   "execution_count": 1,
   "metadata": {
    "collapsed": false
   },
   "outputs": [
    {
     "name": "stdout",
     "output_type": "stream",
     "text": [
      "7\n"
     ]
    }
   ],
   "source": [
    "print (3+4)"
   ]
  },
  {
   "cell_type": "code",
   "execution_count": 2,
   "metadata": {
    "collapsed": true
   },
   "outputs": [],
   "source": [
    "class Tree:\n",
    "    def __init__(self,i,lhs=None,rhs=None):\n",
    "      self.value=i  \n",
    "      self.lhs=lhs\n",
    "      self.rhs=rhs  \n",
    "    def __str__(self):\n",
    "        return \"[{0}][L:{1}][R:{2}]\".format(self.value,self.lhs,self.rhs)\n",
    "    def __repr__(self): \n",
    "        return str(self)"
   ]
  },
  {
   "cell_type": "code",
   "execution_count": 3,
   "metadata": {
    "collapsed": false
   },
   "outputs": [],
   "source": [
    "def printTree(tree,depth=0):\n",
    "    if not tree: return \n",
    "    printTree(tree.lhs,depth+1)\n",
    "    print(\"{0}[{1}]\".format(\" \"*depth*4, tree.value))\n",
    "    printTree(tree.rhs,depth+1)"
   ]
  },
  {
   "cell_type": "code",
   "execution_count": 4,
   "metadata": {
    "collapsed": true
   },
   "outputs": [],
   "source": [
    "printTree(None)"
   ]
  },
  {
   "cell_type": "code",
   "execution_count": 25,
   "metadata": {
    "collapsed": false
   },
   "outputs": [
    {
     "name": "stdout",
     "output_type": "stream",
     "text": [
      "[4]\n"
     ]
    }
   ],
   "source": [
    "printTree(Tree(4))"
   ]
  },
  {
   "cell_type": "code",
   "execution_count": 26,
   "metadata": {
    "collapsed": false
   },
   "outputs": [
    {
     "name": "stdout",
     "output_type": "stream",
     "text": [
      "    [3]\n",
      "[4]\n",
      "        [5]\n",
      "    [6]\n",
      "        [7]\n",
      "---\n",
      "    [3]\n",
      "[4]\n",
      "        [9]\n",
      "    [6]\n",
      "        [7]\n"
     ]
    }
   ],
   "source": [
    "bst1 = Tree(4,Tree(3), Tree(6,Tree(5),Tree(7)))\n",
    "printTree(bst1)\n",
    "notbst3 = Tree(4,Tree(3), Tree(6,Tree(9),Tree(7)))\n",
    "print (\"---\")\n",
    "printTree(notbst3)\n"
   ]
  },
  {
   "cell_type": "raw",
   "metadata": {
    "collapsed": true
   },
   "source": []
  },
  {
   "cell_type": "code",
   "execution_count": 7,
   "metadata": {
    "collapsed": false
   },
   "outputs": [],
   "source": [
    "def IsBst(tree, last=0):\n",
    "    if not tree: return (True, last)\n",
    "    (isBst,last) = IsBst(tree.lhs,last)\n",
    "    if not isBst: return (False, last)\n",
    "    if (last and last > tree.value): return (False, last)\n",
    "    return IsBst(tree.rhs,tree.value)"
   ]
  },
  {
   "cell_type": "code",
   "execution_count": null,
   "metadata": {
    "collapsed": true
   },
   "outputs": [],
   "source": [
    "def InOrderTraverse(tree):\n",
    "    if not tree: return\n",
    "    yield from InOrderTraverse(tree.lhs)\n",
    "    yield tree.value\n",
    "    yield from InOrderTraverse(tree.rhs)"
   ]
  },
  {
   "cell_type": "code",
   "execution_count": 27,
   "metadata": {
    "collapsed": false
   },
   "outputs": [
    {
     "data": {
      "text/plain": [
       "[3, 4, 5, 6, 7]"
      ]
     },
     "execution_count": 27,
     "metadata": {},
     "output_type": "execute_result"
    }
   ],
   "source": [
    "[n for n in InOrderTraverse(bst1)]"
   ]
  },
  {
   "cell_type": "code",
   "execution_count": 8,
   "metadata": {
    "collapsed": false
   },
   "outputs": [
    {
     "data": {
      "text/plain": [
       "(True, 7)"
      ]
     },
     "execution_count": 8,
     "metadata": {},
     "output_type": "execute_result"
    }
   ],
   "source": [
    "IsBst(bst1)"
   ]
  },
  {
   "cell_type": "code",
   "execution_count": 9,
   "metadata": {
    "collapsed": false
   },
   "outputs": [
    {
     "data": {
      "text/plain": [
       "(False, 9)"
      ]
     },
     "execution_count": 9,
     "metadata": {},
     "output_type": "execute_result"
    }
   ],
   "source": [
    "IsBst(notbst3)"
   ]
  },
  {
   "cell_type": "code",
   "execution_count": 10,
   "metadata": {
    "collapsed": false
   },
   "outputs": [],
   "source": [
    "def FindFlip(a): return FindFlipR(a, 0,len(a) -1)\n",
    "def FindFlipR(a,start,end):\n",
    "    length  = end - start + 1\n",
    "    if (length == 1): return None\n",
    "    if (length == 2):\n",
    "        if a[start] > a[end]: return  a[end] \n",
    "        else: return None\n",
    "    mid = start + int((end - start) /2)\n",
    "    print ('>',start, mid ,end, a[start], a[mid], a[end])\n",
    "\n",
    "    if a[start] < a[mid]:\n",
    "        # it's on the right\n",
    "        return FindFlipR(a, mid ,end)\n",
    "    if a[start] > a[mid]: \n",
    "        # it's on the left\n",
    "        return FindFlipR(a, start, mid)\n",
    "    return None"
   ]
  },
  {
   "cell_type": "code",
   "execution_count": 11,
   "metadata": {
    "collapsed": false
   },
   "outputs": [
    {
     "data": {
      "text/plain": [
       "1"
      ]
     },
     "execution_count": 11,
     "metadata": {},
     "output_type": "execute_result"
    }
   ],
   "source": [
    "FindFlip([2,1])"
   ]
  },
  {
   "cell_type": "code",
   "execution_count": 12,
   "metadata": {
    "collapsed": false
   },
   "outputs": [
    {
     "name": "stdout",
     "output_type": "stream",
     "text": [
      "> 0 1 3 9 9 1\n"
     ]
    }
   ],
   "source": [
    "FindFlip([9,9,1,1])"
   ]
  }
 ],
 "metadata": {
  "kernelspec": {
   "display_name": "Python 3",
   "language": "python",
   "name": "python3"
  },
  "language_info": {
   "codemirror_mode": {
    "name": "ipython",
    "version": 3
   },
   "file_extension": ".py",
   "mimetype": "text/x-python",
   "name": "python",
   "nbconvert_exporter": "python",
   "pygments_lexer": "ipython3",
   "version": "3.5.1"
  }
 },
 "nbformat": 4,
 "nbformat_minor": 0
}
