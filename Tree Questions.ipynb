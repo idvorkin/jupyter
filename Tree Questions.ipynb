{
 "cells": [
  {
   "cell_type": "markdown",
   "metadata": {
    "incorrectly_encoded_metadata": "toc-hr-collapsed=false"
   },
   "source": [
    "# BSTs\n",
    "\n",
    "Notes:\n",
    "\n",
    "- Confirm how they want to do duplicates (inline with tree, or count on node)\n",
    "\n",
    "### Can't end recursion with just the current knowledge.\n",
    "\n",
    "Recursion where you just return state of final node tends not to be the solution (as it is with trees)\n",
    "This is because you usually want some idea of parent state (see idea of a candidate node) which is easier to do with a while loop with a candidate node and bi-secting search space each time.\n",
    "\n",
    "### Complexity\n",
    "\n",
    "O(n) if need to visit all\n",
    "O(h) if height of tree\n",
    "O(h) can degrade to o(n) as can always see a BST as an LL\n",
    "\n",
    "\n",
    "### Approaches:\n",
    "\n",
    "**Abstract out traversal (usually in order)**\n",
    "\n",
    "Differentiate iteration, from conditions. Iteration is an o(n), depending on starting point.\n",
    "\n",
    "**K-largest:** Traverse BST backwards by doing inorder rhs->mid->lhs, stop after K.\n",
    "\n",
    "InOrderBackwards(tree).first(5) # use a generator, take first 5 or none - very tight syntax\n",
    "\n",
    "**Pass valid intervals down:**\n",
    "\n",
    "* IsBST() => InRange(t,min,max)\n",
    "\n",
    "**Keep track of candidate node, while cutting search space in half:**\n",
    "\n",
    "* NextBiggest()\n",
    "* FirstFound()\n",
    "\n",
    "Can use recursion,but a bit easier to read with iteration\n",
    "Note this is the same as operating in a sorted array\n",
    "\n",
    "candidate = None; it = t\n",
    "\n",
    "while (it):\n",
    " if isFound: return True\n",
    " if onLeft: it = it.lhs\n",
    " if onRight: it = it.rhs\n",
    "return False\n",
    "\n",
    "### Analog to sorted array\n",
    "\n",
    "- You cut candidates in half each time\n",
    "- None/Terminal node => e>s\n",
    "- lhs = (low, mid-1)\n",
    "- rhs = (mid+1, high)\n",
    "- mid == (s+e)//2\n"
   ]
  },
  {
   "cell_type": "code",
   "execution_count": 1,
   "metadata": {},
   "outputs": [
    {
     "name": "stdout",
     "output_type": "stream",
     "text": [
      "The history saving thread hit an unexpected error (DatabaseError('database disk image is malformed')).History will not be written to the database.\n"
     ]
    }
   ],
   "source": [
    "class Tree:\n",
    "    def __init__(self, i, lhs=None, rhs=None):\n",
    "        self.value = i\n",
    "        self.lhs = lhs\n",
    "        self.rhs = rhs\n",
    "\n",
    "    def __str__(self):\n",
    "        return f\"[{self.value}], [{self.lhs}], [{self.rhs}]\"\n",
    "\n",
    "    def __repr__(self):\n",
    "        return str(self)\n",
    "\n",
    "\n",
    "def printTree(tree, depth=0):\n",
    "    if not tree:\n",
    "        return\n",
    "    printTree(tree.lhs, depth + 1)\n",
    "    print(f'{\" \" * depth * 4}[{tree.value}]')\n",
    "    printTree(tree.rhs, depth + 1)"
   ]
  },
  {
   "cell_type": "code",
   "execution_count": 120,
   "metadata": {
    "collapsed": false,
    "jupyter": {
     "outputs_hidden": false
    }
   },
   "outputs": [
    {
     "name": "stdout",
     "output_type": "stream",
     "text": [
      "[4]\n",
      "--BST--\n",
      "    [3]\n",
      "[4]\n",
      "        [5]\n",
      "    [6]\n",
      "        [7]\n",
      "--Not BST--\n",
      "    [3]\n",
      "[4]\n",
      "        [9]\n",
      "    [6]\n",
      "        [7]\n"
     ]
    }
   ],
   "source": [
    "printTree(None)\n",
    "printTree(Tree(4))\n",
    "print(\"--BST--\")\n",
    "bst1 = Tree(4, Tree(3), Tree(6, Tree(5), Tree(7)))\n",
    "printTree(bst1)\n",
    "notbst3 = Tree(4, Tree(3), Tree(6, Tree(9), Tree(7)))\n",
    "print(\"--Not BST--\")\n",
    "printTree(notbst3)"
   ]
  },
  {
   "cell_type": "code",
   "execution_count": null,
   "metadata": {
    "collapsed": false,
    "jupyter": {
     "outputs_hidden": false
    }
   },
   "outputs": [],
   "source": []
  },
  {
   "cell_type": "code",
   "execution_count": 121,
   "metadata": {
    "collapsed": false,
    "jupyter": {
     "outputs_hidden": false
    }
   },
   "outputs": [],
   "source": [
    "def InOrderTraverse(tree):\n",
    "    if not tree:\n",
    "        return\n",
    "    yield from InOrderTraverse(tree.lhs)\n",
    "    yield tree\n",
    "    yield from InOrderTraverse(tree.rhs)\n",
    "\n",
    "\n",
    "def IsBst(tree):\n",
    "    prev = None\n",
    "    for it in InOrderTraverse(tree):\n",
    "        firstElement = prev == None\n",
    "        if firstElement:\n",
    "            prev = it\n",
    "            continue  # first element always a BST\n",
    "        if prev.value > it.value:\n",
    "            return False\n",
    "        prev = it\n",
    "    return True"
   ]
  },
  {
   "cell_type": "code",
   "execution_count": 115,
   "metadata": {
    "collapsed": false,
    "jupyter": {
     "outputs_hidden": false
    }
   },
   "outputs": [
    {
     "name": "stdout",
     "output_type": "stream",
     "text": [
      "[3, 4, 5, 6, 7]\n"
     ]
    },
    {
     "data": {
      "text/plain": [
       "True"
      ]
     },
     "execution_count": 115,
     "metadata": {},
     "output_type": "execute_result"
    }
   ],
   "source": [
    "print([n.value for n in InOrderTraverse(bst1)])\n",
    "IsBst(bst1)"
   ]
  },
  {
   "cell_type": "code",
   "execution_count": 116,
   "metadata": {
    "collapsed": false,
    "jupyter": {
     "outputs_hidden": false
    }
   },
   "outputs": [
    {
     "name": "stdout",
     "output_type": "stream",
     "text": [
      "[3, 4, 9, 6, 7]\n"
     ]
    },
    {
     "data": {
      "text/plain": [
       "False"
      ]
     },
     "execution_count": 116,
     "metadata": {},
     "output_type": "execute_result"
    }
   ],
   "source": [
    "print([n.value for n in InOrderTraverse(notbst3)])\n",
    "IsBst(notbst3)"
   ]
  },
  {
   "cell_type": "code",
   "execution_count": 112,
   "metadata": {
    "collapsed": false,
    "jupyter": {
     "outputs_hidden": false
    }
   },
   "outputs": [],
   "source": [
    "def FindFlip(a):\n",
    "    return FindFlipR(a, 0, len(a) - 1)\n",
    "\n",
    "\n",
    "def FindFlipR(a, start, end):\n",
    "    length = end - start + 1\n",
    "    if length == 1:\n",
    "        return None\n",
    "    if length == 2:\n",
    "        if a[start] > a[end]:\n",
    "            return a[end]\n",
    "        else:\n",
    "            return None\n",
    "    mid = start + int((end - start) / 2)\n",
    "    print(\">\", start, mid, end, a[start], a[mid], a[end])\n",
    "\n",
    "    if a[start] < a[mid]:\n",
    "        # it's on the right\n",
    "        return FindFlipR(a, mid, end)\n",
    "    if a[start] > a[mid]:\n",
    "        # it's on the left\n",
    "        return FindFlipR(a, start, mid)\n",
    "    return None"
   ]
  },
  {
   "cell_type": "code",
   "execution_count": 11,
   "metadata": {
    "collapsed": false,
    "jupyter": {
     "outputs_hidden": false
    }
   },
   "outputs": [
    {
     "data": {
      "text/plain": [
       "1"
      ]
     },
     "execution_count": 11,
     "metadata": {},
     "output_type": "execute_result"
    }
   ],
   "source": [
    "FindFlip([2, 1])"
   ]
  },
  {
   "cell_type": "code",
   "execution_count": 12,
   "metadata": {
    "collapsed": true,
    "jupyter": {
     "outputs_hidden": true
    }
   },
   "outputs": [
    {
     "name": "stdout",
     "output_type": "stream",
     "text": [
      "> 0 1 3 9 9 1\n"
     ]
    }
   ],
   "source": [
    "FindFlip([9, 9, 1, 1])"
   ]
  },
  {
   "cell_type": "code",
   "execution_count": null,
   "metadata": {
    "collapsed": true,
    "jupyter": {
     "outputs_hidden": true
    }
   },
   "outputs": [],
   "source": []
  },
  {
   "cell_type": "code",
   "execution_count": null,
   "metadata": {
    "collapsed": true,
    "jupyter": {
     "outputs_hidden": true
    }
   },
   "outputs": [],
   "source": []
  },
  {
   "cell_type": "code",
   "execution_count": null,
   "metadata": {},
   "outputs": [],
   "source": []
  }
 ],
 "metadata": {
  "kernelspec": {
   "display_name": "Python 3",
   "language": "python",
   "name": "python3"
  },
  "language_info": {
   "codemirror_mode": {
    "name": "ipython",
    "version": 3
   },
   "file_extension": ".py",
   "mimetype": "text/x-python",
   "name": "python",
   "nbconvert_exporter": "python",
   "pygments_lexer": "ipython3",
   "version": "3.7.6"
  },
  "toc-autonumbering": true,
  "toc-showcode": true,
  "toc-showmarkdowntxt": true
 },
 "nbformat": 4,
 "nbformat_minor": 2
}
