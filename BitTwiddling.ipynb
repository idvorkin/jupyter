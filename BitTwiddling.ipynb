{
 "cells": [
  {
   "cell_type": "code",
   "execution_count": 1,
   "metadata": {
    "collapsed": false
   },
   "outputs": [],
   "source": [
    "def printB(x):\n",
    "    print(\"{0}:{0:b}\".format(x))"
   ]
  },
  {
   "cell_type": "code",
   "execution_count": null,
   "metadata": {},
   "outputs": [],
   "source": [
    "printB(4)\n",
    "printB(19)\n",
    "printB(-1)\n",
    "printB(~0)\n",
    "printB(16)\n",
    "printB(15)"
   ]
  },
  {
   "cell_type": "code",
   "execution_count": 3,
   "metadata": {
    "collapsed": false
   },
   "outputs": [
    {
     "name": "stdout",
     "output_type": "stream",
     "text": [
      "31:11111\n"
     ]
    }
   ],
   "source": [
    "printB((1 << 5) - 1)  # set low order bits, over shift, -1.\n",
    "# -1 on a power of 2 flips all the bits that are lower."
   ]
  },
  {
   "cell_type": "code",
   "execution_count": 4,
   "metadata": {
    "collapsed": false
   },
   "outputs": [
    {
     "name": "stdout",
     "output_type": "stream",
     "text": [
      "68719476720:111111111111111111111111111111110000\n"
     ]
    }
   ],
   "source": [
    "# set high order bits needs negation, which is hard to do since no maximum width.\n",
    "x = ((1 << 32) - 1) << 4\n",
    "printB(x)"
   ]
  },
  {
   "cell_type": "code",
   "execution_count": 5,
   "metadata": {
    "collapsed": true
   },
   "outputs": [],
   "source": [
    "def InsertBits(src, dst, start, end):\n",
    "    maskUpper = ((1 << (32)) - 1) << (end + 1)\n",
    "    printB(maskUpper)\n",
    "    maskLower = (1 << (start)) - 1\n",
    "    printB(maskLower)\n",
    "    mask = maskUpper | maskLower\n",
    "    printB(mask)\n",
    "    maskedDst = dst & mask\n",
    "    shiftedSrc = src << start\n",
    "    return maskedDst | shiftedSrc"
   ]
  },
  {
   "cell_type": "code",
   "execution_count": 6,
   "metadata": {
    "collapsed": false
   },
   "outputs": [
    {
     "name": "stdout",
     "output_type": "stream",
     "text": [
      "549755813760:111111111111111111111111111111110000000\n",
      "7:111\n",
      "549755813767:111111111111111111111111111111110000111\n",
      "7:111\n"
     ]
    }
   ],
   "source": [
    "# TODO Review for correctness :(\n",
    "m = InsertBits(0, 127, 3, 6)\n",
    "printB(m)"
   ]
  },
  {
   "cell_type": "code",
   "execution_count": 9,
   "metadata": {
    "collapsed": false
   },
   "outputs": [],
   "source": [
    "def PrintDoubleAsString(d):\n",
    "    if d >= 1 or d < 0:\n",
    "        return None  # Note 0 is a special case, not handled.\n",
    "    bitValue = 1  # set to 1 so first time through loop gets correct value\n",
    "    remaining = d\n",
    "    representation = \"\"\n",
    "    for bitPost in range(32):\n",
    "        if not remaining:\n",
    "            break\n",
    "        bitValue = bitValue / 2\n",
    "        if remaining >= bitValue:\n",
    "            bitRepresentation = \"1\"\n",
    "            remaining -= bitValue\n",
    "        else:\n",
    "            bitRepresentation = \"0\"\n",
    "\n",
    "        representation = bitRepresentation + representation\n",
    "\n",
    "    return None if remaining else representation"
   ]
  },
  {
   "cell_type": "code",
   "execution_count": 10,
   "metadata": {
    "collapsed": false
   },
   "outputs": [
    {
     "data": {
      "text/plain": [
       "'1'"
      ]
     },
     "execution_count": 10,
     "metadata": {},
     "output_type": "execute_result"
    }
   ],
   "source": [
    "PrintDoubleAsString(0.5)"
   ]
  },
  {
   "cell_type": "code",
   "execution_count": null,
   "metadata": {},
   "outputs": [],
   "source": [
    "PrintDoubleAsString(0.125)\n",
    "PrintDoubleAsString(0.625)"
   ]
  },
  {
   "cell_type": "code",
   "execution_count": 12,
   "metadata": {
    "collapsed": true
   },
   "outputs": [],
   "source": [
    "PrintDoubleAsString(0.24)"
   ]
  },
  {
   "cell_type": "code",
   "execution_count": null,
   "metadata": {},
   "outputs": [],
   "source": []
  }
 ],
 "metadata": {
  "kernelspec": {
   "display_name": "Python 3",
   "language": "python",
   "name": "python3"
  },
  "language_info": {
   "codemirror_mode": {
    "name": "ipython",
    "version": 3
   },
   "file_extension": ".py",
   "mimetype": "text/x-python",
   "name": "python",
   "nbconvert_exporter": "python",
   "pygments_lexer": "ipython3",
   "version": "3.7.1"
  }
 },
 "nbformat": 4,
 "nbformat_minor": 2
}
