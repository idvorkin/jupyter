{
 "cells": [
  {
   "cell_type": "markdown",
   "metadata": {},
   "source": [
    "### Enumerate\n",
    "Iterate w/index\n"
   ]
  },
  {
   "cell_type": "code",
   "execution_count": 16,
   "metadata": {},
   "outputs": [
    {
     "name": "stdout",
     "output_type": "stream",
     "text": [
      "0 h\n",
      "1 e\n",
      "2 l\n",
      "3 l\n",
      "4 o\n"
     ]
    }
   ],
   "source": [
    "# enumerate w/index\n",
    "for x, i in enumerate(\"hello\"):\n",
    "    print(x, i)"
   ]
  },
  {
   "cell_type": "markdown",
   "metadata": {},
   "source": [
    "### Default dictionary\n",
    "A dictionary which generates value when doesn't exit"
   ]
  },
  {
   "cell_type": "code",
   "execution_count": 1,
   "metadata": {},
   "outputs": [
    {
     "name": "stdout",
     "output_type": "stream",
     "text": [
      "{'word'}\n",
      "2\n"
     ]
    }
   ],
   "source": [
    "from collections import defaultdict\n",
    "\n",
    "key = \"arbitrary_key\"\n",
    "d_set = defaultdict(set)\n",
    "d_set[key].add(\"word\")\n",
    "print(d_set[key])\n",
    "\n",
    "d_int = defaultdict(int)\n",
    "d_int[key] += 1\n",
    "d_int[key] += 1\n",
    "print(d_int[key])"
   ]
  },
  {
   "cell_type": "markdown",
   "metadata": {},
   "source": [
    "### List Manipulation"
   ]
  },
  {
   "cell_type": "code",
   "execution_count": 2,
   "metadata": {},
   "outputs": [
    {
     "name": "stdout",
     "output_type": "stream",
     "text": [
      "[0, 1, 2]\n",
      "you can join lists using the + operator, but it needs a list on both sides.\n",
      "[0, 1, 2, 1]\n",
      "[0, 1, 2]\n",
      "you can extend in place using += \n",
      "[0, 1, 2, 'Igor']\n",
      "you can also in place using append and extend.\n",
      "[0, 1, 2, 'Igor', 'Bob']\n",
      "[0, 1, 2, 'Igor', 'Bob', 'Ammon']\n"
     ]
    }
   ],
   "source": [
    "l = [i for i in range(3)]\n",
    "print(l)\n",
    "\n",
    "# + and += only operate on enumerables (not singleton), but it's tight syntax to do a single e.g. l+=[one]\n",
    "# Use l+[] to extend by a list\n",
    "# Use l+= [] to modify in place\n",
    "\n",
    "print(\"you can join lists using the + operator, but it needs a list on both sides.\")\n",
    "print(l + [1])\n",
    "print(l)\n",
    "print(\"you can extend in place using += \")\n",
    "l += [\"Igor\"]\n",
    "print(l)\n",
    "\n",
    "print(\"you can also in place using append and extend.\")\n",
    "l.append(\"Bob\")\n",
    "print(l)\n",
    "l.extend([\"Ammon\"])\n",
    "print(l)"
   ]
  },
  {
   "cell_type": "markdown",
   "metadata": {},
   "source": [
    "### Dictionary Manipulation"
   ]
  },
  {
   "cell_type": "code",
   "execution_count": 3,
   "metadata": {
    "lines_to_next_cell": 2
   },
   "outputs": [
    {
     "name": "stdout",
     "output_type": "stream",
     "text": [
      "enumerate keys and values\n",
      "k 1\n",
      "k 2\n",
      "enumerate keys\n",
      "k1\n",
      "k2\n",
      "enumerate values\n",
      "v1\n",
      "v2\n"
     ]
    }
   ],
   "source": [
    "d = {}\n",
    "d[\"k1\"] = \"v1\"\n",
    "d[\"k2\"] = \"v2\"\n",
    "\n",
    "print(\"enumerate keys and values\")\n",
    "for k, v in d:\n",
    "    print(k, v)\n",
    "\n",
    "print(\"enumerate keys\")\n",
    "for k in d.keys():\n",
    "    print(k)\n",
    "\n",
    "print(\"enumerate values\")\n",
    "for v in d.values():\n",
    "    print(v)"
   ]
  },
  {
   "cell_type": "markdown",
   "metadata": {},
   "source": [
    "### Peek Iterator.\n",
    "Often you need to walk a list and keep track of index, this isn't a real iterator but you can make one."
   ]
  },
  {
   "cell_type": "code",
   "execution_count": 4,
   "metadata": {},
   "outputs": [],
   "source": [
    "from itertools import chain\n",
    "\n",
    "\n",
    "class PeekIterator:\n",
    "    class EndOfIteration:\n",
    "        pass\n",
    "\n",
    "    def __init__(self, iter):\n",
    "        self.iter = chain(iter, [self.EndOfIteration])\n",
    "        self.next = next(self.iter)\n",
    "\n",
    "    def peek(self):\n",
    "        # shouldn't be allowed\n",
    "        # throw\n",
    "        if self.is_empty():\n",
    "            raise StopIteration\n",
    "        return self.next\n",
    "\n",
    "    def __iter__(self):\n",
    "        return self\n",
    "\n",
    "    def __next__(self):\n",
    "        while True:\n",
    "            if self.is_empty():\n",
    "                break\n",
    "            r = self.next\n",
    "            self.next = next(self.iter)\n",
    "            return r\n",
    "        raise StopIteration\n",
    "\n",
    "    # Increment iterator and return value\n",
    "    def is_empty(self):\n",
    "        return self.next == self.EndOfIteration\n",
    "\n",
    "    def has_elements(self):\n",
    "        return not self.is_empty()\n",
    "\n",
    "    def pop(self):\n",
    "        return next(self)"
   ]
  },
  {
   "cell_type": "code",
   "execution_count": 76,
   "metadata": {
    "lines_to_next_cell": 2
   },
   "outputs": [
    {
     "name": "stdout",
     "output_type": "stream",
     "text": [
      "0\n",
      "1\n",
      "2\n",
      "3\n",
      "4\n",
      "5\n",
      "6\n",
      "7\n",
      "8\n",
      "9\n",
      "Peek:0\n",
      "Pop:0\n",
      "IsEmpty:False\n",
      "has_elements:True\n",
      "Peek:1\n",
      "Pop:1\n",
      "IsEmpty:False\n",
      "has_elements:True\n",
      "Peek:2\n",
      "Pop:2\n",
      "IsEmpty:False\n",
      "has_elements:True\n",
      "Peek:3\n",
      "Pop:3\n",
      "IsEmpty:True\n",
      "has_elements:False\n"
     ]
    }
   ],
   "source": [
    "z1 = PeekIterator(range(10))\n",
    "z1.peek()\n",
    "z1.peek()\n",
    "\n",
    "# Iteration works normally. Now lets do manual iteration.\n",
    "for i in PeekIterator(range(10)):\n",
    "    print(i)\n",
    "\n",
    "i1 = PeekIterator(range(4))\n",
    "\n",
    "while i1.has_elements():\n",
    "    print(f\"Peek:{i1.peek()}\")\n",
    "    print(f\"Pop:{i1.pop()}\")\n",
    "    print(f\"IsEmpty:{i1.is_empty()}\")\n",
    "    print(f\"has_elements:{i1.has_elements()}\")"
   ]
  },
  {
   "cell_type": "code",
   "execution_count": 83,
   "metadata": {
    "lines_to_next_cell": 2
   },
   "outputs": [
    {
     "name": "stdout",
     "output_type": "stream",
     "text": [
      "Use it to do a merge of 2 sorted lists\n",
      "[3, 3, 10, 16, 24, 26, 41, 45, 89, 93]\n",
      "[16, 24, 25, 30, 32, 32, 52, 57, 80, 98]\n",
      "[3, 3, 10, 16, 16, 24, 24, 25, 26, 30, 32, 32, 41, 45, 52, 57, 80, 89, 93]\n"
     ]
    }
   ],
   "source": [
    "print(\"Use it to do a merge of 2 sorted lists\")\n",
    "import random\n",
    "\n",
    "l1 = [random.randint(0, 100) for x in range(10)]\n",
    "l1.sort()\n",
    "print(l1)\n",
    "\n",
    "l2 = [random.randint(0, 100) for x in range(10)]\n",
    "l2.sort()\n",
    "print(l2)\n",
    "\n",
    "\n",
    "def merge(xs, ys):\n",
    "    pxs = PeekIterator(xs)\n",
    "    pys = PeekIterator(ys)\n",
    "    out = []\n",
    "\n",
    "    while pxs.has_elements() and pys.has_elements():\n",
    "        itSmaller = pxs if pxs.peek() < pys.peek() else pys\n",
    "        out += [itSmaller.pop()]\n",
    "\n",
    "    remaining = pxs if pys.is_empty() else pys\n",
    "    out += pxs\n",
    "    return out\n",
    "\n",
    "\n",
    "print(merge(l1, l2))"
   ]
  },
  {
   "cell_type": "markdown",
   "metadata": {
    "incorrectly_encoded_metadata": "toc-hr-collapsed=true"
   },
   "source": [
    "### Intervals and sorting and named tupples\n",
    "For interval questions, normally you do sort endpoints and go from there."
   ]
  },
  {
   "cell_type": "code",
   "execution_count": 120,
   "metadata": {},
   "outputs": [
    {
     "name": "stdout",
     "output_type": "stream",
     "text": [
      "[(4, 10), (9, 12), (20, 25), (22, 28), (19, 40)]\n",
      "[Index(index=4, increment=1), Index(index=9, increment=1), Index(index=10, increment=-1), Index(index=12, increment=-1), Index(index=19, increment=1), Index(index=20, increment=1), Index(index=22, increment=1), Index(index=25, increment=-1), Index(index=28, increment=-1), Index(index=40, increment=-1)]\n",
      "3\n"
     ]
    }
   ],
   "source": [
    "from collections import namedtuple\n",
    "\n",
    "\n",
    "def maxAlive(bds):\n",
    "    Index = namedtuple(\"Index\", \"index increment\")\n",
    "    print(bds)\n",
    "    indexs = []\n",
    "    for b, d in bds:\n",
    "        indexs += [Index(b, increment=1)]\n",
    "        indexs += [Index(d, increment=-1)]\n",
    "\n",
    "    indexs = sorted(indexs, key=lambda x: x.index)\n",
    "    print(indexs)\n",
    "\n",
    "    cAlive = 0\n",
    "    maxAlive = 0\n",
    "    for i in indexs:\n",
    "        cAlive += i.increment\n",
    "        maxAlive = max(maxAlive, cAlive)\n",
    "    return maxAlive\n",
    "\n",
    "\n",
    "birth_deaths = [(4, 10), (9, 12), (20, 25), (22, 28), (19, 40)]\n",
    "print(maxAlive(birth_deaths))"
   ]
  },
  {
   "cell_type": "markdown",
   "metadata": {},
   "source": [
    "### Set operations"
   ]
  },
  {
   "cell_type": "code",
   "execution_count": 10,
   "metadata": {
    "lines_to_next_cell": 2
   },
   "outputs": [
    {
     "name": "stdout",
     "output_type": "stream",
     "text": [
      "can set via list comprehension\n",
      "a:{'q', 'r', 'd'}\n",
      "b:{'a', 'r', 'd', 'b', 'c'}\n",
      "b-a:{'a', 'b', 'c'}\n",
      "Union A|B:{'a', 'r', 'd', 'q', 'b', 'c'}\n",
      "Intersect (subset) A&B:{'r', 'd'}\n",
      "Only in 1 (XOR) (A|B - A&B) A^B:{'a', 'q', 'b', 'c'}\n"
     ]
    }
   ],
   "source": [
    "print(\"can set via list comprehension\")\n",
    "a = {x for x in \"qabracadabra\" if x not in \"abc\"}\n",
    "b = set(\"abracadabra\")\n",
    "c = set(\"alacazam\")\n",
    "\n",
    "print(f\"a:{a}\")\n",
    "print(f\"b:{b}\")\n",
    "print(f\"b-a:{b-a}\")\n",
    "print(f\"Union A|B:{a|b}\")\n",
    "print(f\"Intersect (subset) A&B:{a&b}\")\n",
    "print(f\"Only in 1 (XOR) (A|B - A&B) A^B:{a^b}\")"
   ]
  },
  {
   "cell_type": "markdown",
   "metadata": {},
   "source": [
    "### Stack and Queue\n",
    "Stack is LIFO (Simple List)\n",
    "Queue is FIFO (Special Class)\n",
    "Deque is dual sided O(1) access, pop(),popleft(), append(), appendleft()"
   ]
  },
  {
   "cell_type": "code",
   "execution_count": 21,
   "metadata": {},
   "outputs": [
    {
     "name": "stdout",
     "output_type": "stream",
     "text": [
      "stack.top(see last element, L[-1]): 5\n",
      "stack.pop(remove from end): 5\n",
      "Q:deque(['Eric', 'John', 'Michael'])\n",
      "Q.popleft():Eric\n",
      "Q.pop():Michael\n",
      "Q:deque(['hi', 'John', 'Igor'])\n"
     ]
    }
   ],
   "source": [
    "# S\n",
    "l = []\n",
    "l.append(4)  # Add to End\n",
    "l.append(5)  # Add to End\n",
    "\n",
    "# monkey patch top, pretty syntax\n",
    "print(f\"stack.top(see last element, L[-1]): {l[-1]}\")\n",
    "print(f\"stack.pop(remove from end): {l.pop()}\")\n",
    "\n",
    "from collections import deque\n",
    "\n",
    "q = deque([\"Eric\", \"John\", \"Michael\"])\n",
    "print(f\"Q:{q}\")\n",
    "print(f\"Q.popleft():{q.popleft()}\")\n",
    "print(f\"Q.pop():{q.pop()}\")\n",
    "\n",
    "q.append(\"Igor\")\n",
    "q.appendleft(\"hi\")\n",
    "print(f\"Q:{q}\")"
   ]
  },
  {
   "cell_type": "markdown",
   "metadata": {},
   "source": [
    "### Enums"
   ]
  },
  {
   "cell_type": "code",
   "execution_count": 24,
   "metadata": {},
   "outputs": [
    {
     "name": "stdout",
     "output_type": "stream",
     "text": [
      "Color.RED\n"
     ]
    }
   ],
   "source": [
    "from enum import Enum, auto\n",
    "\n",
    "\n",
    "class Color(Enum):\n",
    "    RED = auto()\n",
    "    BLUE = auto()\n",
    "    GREEN = auto()\n",
    "\n",
    "\n",
    "z = Color.RED\n",
    "print(z)\n",
    "\n",
    "# also support bit flags to perform set operations, but heck, just use set operations it's clearer."
   ]
  },
  {
   "cell_type": "markdown",
   "metadata": {},
   "source": [
    "# Generator Funtions\n",
    "* Return values using a simple function\n",
    "* Generators are lazy, so don't maintain extra memory\n",
    "* Need to make them a list using list()\n",
    "* Great to make Iterators from logic (e.g. Tree in-order traversal, LL traversal etc)\n",
    "* Great to make sequences of infinite length e.g. nextInt() as they don't require building a list.\n",
    "* Nice solution when you find yourself appending to a variable to return like:\n",
    "* ret = []... ret+=[next value] return ret\n",
    "\n",
    "Syntax:\n",
    "* return -> Done\n",
    "* yield x -> return value x\n",
    "* yield from xs -> return values as passed in."
   ]
  },
  {
   "cell_type": "code",
   "execution_count": 5,
   "metadata": {},
   "outputs": [
    {
     "name": "stdout",
     "output_type": "stream",
     "text": [
      "[0, 1, 2]\n",
      "[0, 1, 2, 3]\n"
     ]
    }
   ],
   "source": [
    "def gen3(start):\n",
    "    yield start\n",
    "    yield start + 1\n",
    "    yield start + 2\n",
    "    return\n",
    "\n",
    "\n",
    "def gen4(start):\n",
    "    yield start\n",
    "    yield from gen3(start + 1)\n",
    "    return\n",
    "\n",
    "\n",
    "print(list(gen3(0)))\n",
    "print(list(gen4(0)))"
   ]
  }
 ],
 "metadata": {
  "kernelspec": {
   "display_name": "Python 3",
   "language": "python",
   "name": "python3"
  },
  "language_info": {
   "codemirror_mode": {
    "name": "ipython",
    "version": 3
   },
   "file_extension": ".py",
   "mimetype": "text/x-python",
   "name": "python",
   "nbconvert_exporter": "python",
   "pygments_lexer": "ipython3",
   "version": "3.9.8"
  },
  "toc-autonumbering": false
 },
 "nbformat": 4,
 "nbformat_minor": 4
}
