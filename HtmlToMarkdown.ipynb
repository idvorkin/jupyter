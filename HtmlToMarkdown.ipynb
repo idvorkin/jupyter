{
 "cells": [
  {
   "cell_type": "code",
   "execution_count": 1,
   "metadata": {},
   "outputs": [],
   "source": [
    "from bs4 import BeautifulSoup, NavigableString"
   ]
  },
  {
   "cell_type": "code",
   "execution_count": 2,
   "metadata": {},
   "outputs": [],
   "source": [
    "header = \"\"\"<h3> hello </h3> \n",
    "            <h1>hello <b>bob</b></h1> \n",
    "            <h1> hi <blockquote>there</blockquote> joey </h1>\"\"\"\n",
    "soup = BeautifulSoup(header)"
   ]
  },
  {
   "cell_type": "code",
   "execution_count": 3,
   "metadata": {},
   "outputs": [
    {
     "name": "stdout",
     "output_type": "stream",
     "text": [
      "Node:html, Children:1:<html><body><h3> hello </h3>\n",
      "<h1>hello <b>bob</b></h1>\n",
      "<h1> hi <blockquote>there</blockquote> joey </h1></body></html>\n",
      " Node:body, Children:5: <body><h3> hello </h3>\n",
      "<h1>hello <b>bob</b></h1>\n",
      "<h1> hi <blockquote>there</blockquote> joey </h1></body>\n",
      "  Node:h3, Children:1:  <h3> hello </h3>\n",
      "   STR:hello\n",
      "  STR:\n",
      "  Node:h1, Children:2:  <h1>hello <b>bob</b></h1>\n",
      "   STR:hello\n",
      "   Node:b, Children:1:   <b>bob</b>\n",
      "    STR:bob\n",
      "  STR:\n",
      "  Node:h1, Children:3:  <h1> hi <blockquote>there</blockquote> joey </h1>\n",
      "   STR:hi\n",
      "   Node:blockquote, Children:1:   <blockquote>there</blockquote>\n",
      "    STR:there\n",
      "   STR:joey\n"
     ]
    }
   ],
   "source": [
    "def dump(el, indent=\"\"):\n",
    "    for c in list(el):\n",
    "        isString = isinstance(c, NavigableString)\n",
    "        if isString:\n",
    "            print(f\"{indent}STR:{c.strip()}\")\n",
    "        else:\n",
    "            print(\n",
    "                f\"{indent}Node:{c.name}, Children:{len(list(c.children))}:{indent}{c}\"\n",
    "            )\n",
    "            dump(c, indent + \" \")\n",
    "\n",
    "\n",
    "dump(soup)"
   ]
  },
  {
   "cell_type": "code",
   "execution_count": null,
   "metadata": {},
   "outputs": [],
   "source": []
  },
  {
   "cell_type": "code",
   "execution_count": null,
   "metadata": {},
   "outputs": [],
   "source": []
  }
 ],
 "metadata": {
  "kernelspec": {
   "display_name": "Python 3",
   "language": "python",
   "name": "python3"
  },
  "language_info": {
   "codemirror_mode": {
    "name": "ipython",
    "version": 3
   },
   "file_extension": ".py",
   "mimetype": "text/x-python",
   "name": "python",
   "nbconvert_exporter": "python",
   "pygments_lexer": "ipython3",
   "version": "3.9.8"
  }
 },
 "nbformat": 4,
 "nbformat_minor": 4
}
