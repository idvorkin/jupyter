{
 "cells": [
  {
   "cell_type": "code",
   "execution_count": 13,
   "metadata": {
    "collapsed": false
   },
   "outputs": [
    {
     "name": "stdout",
     "output_type": "stream",
     "text": [
      "Steps 1: Ways 1\n",
      "Steps 3: Ways 4\n",
      "Steps 7: Ways 44\n",
      "Steps 36: Ways 2082876103\n"
     ]
    }
   ],
   "source": [
    "# Count the number of ways a kid that can take 1, 2 or 3 steps can make \n",
    "# to cover N steps.\n",
    "\n",
    "\n",
    "def CountSteps(n):\n",
    "    if n < 1: return 0 \n",
    "    if n == 1: return 1\n",
    "    if n == 2: return 2\n",
    "    if n == 3: return 4\n",
    "    \n",
    "    prev = (4,2,1)\n",
    "    for i in range(3,n): # HYM, Why do I think it should be off by one?\n",
    "        c = sum(prev) \n",
    "        prev = (c,prev[0], prev[1]) # shift down\n",
    "    return prev[0]\n",
    "for i in [1,3,7,36]: print (\"Steps {}: Ways {}\".format(i, CountSteps(i)))"
   ]
  },
  {
   "cell_type": "code",
   "execution_count": 5,
   "metadata": {
    "collapsed": false
   },
   "outputs": [
    {
     "name": "stdout",
     "output_type": "stream",
     "text": [
      "{} 11\n"
     ]
    }
   ],
   "source": [
    "print (\"{}\",11)"
   ]
  },
  {
   "cell_type": "code",
   "execution_count": 18,
   "metadata": {
    "collapsed": false
   },
   "outputs": [],
   "source": [
    "def CountMakeChangeExternal(denoms,total):\n",
    "    if total <= 0: return 0\n",
    "    if not denoms: return 0\n",
    "    \n",
    "    sorted = denoms.copy()\n",
    "    sorted.sort(reverse=True)\n",
    "    return CountMakeChange(sorted,total)\n",
    "    \n",
    "    \n",
    "def CountMakeChange(denoms, total):\n",
    "    assert(denoms)\n",
    "    workDenoms = denoms.copy()\n",
    "    currentCoin = workDenoms.pop() #pop mutates current.\n",
    "    \n",
    "    if total < 0: return 0\n",
    "    if len(workDenoms) == 0:\n",
    "        return 1 if total% currentCoin == 0 else 0 \n",
    "            \n",
    "    maxCoin = int(total/currentCoin)\n",
    "    return sum ([CountMakeChange(workDenoms,total-i*currentCoin) for i in range (maxCoin+1)])"
   ]
  },
  {
   "cell_type": "code",
   "execution_count": 41,
   "metadata": {
    "collapsed": false
   },
   "outputs": [
    {
     "data": {
      "text/plain": [
       "1"
      ]
     },
     "execution_count": 41,
     "metadata": {},
     "output_type": "execute_result"
    }
   ],
   "source": [
    "CountMakeChangeExternal([5,3],14 )"
   ]
  },
  {
   "cell_type": "code",
   "execution_count": 20,
   "metadata": {
    "collapsed": false
   },
   "outputs": [
    {
     "data": {
      "text/plain": [
       "141"
      ]
     },
     "execution_count": 20,
     "metadata": {},
     "output_type": "execute_result"
    }
   ],
   "source": [
    "CountMakeChangeExternal([25,10,5,1],80 )"
   ]
  },
  {
   "cell_type": "code",
   "execution_count": 1,
   "metadata": {
    "collapsed": true
   },
   "outputs": [],
   "source": [
    "def combsN(xs,n):\n",
    "    if n == 0: yield []\n",
    "    for (i,x) in enumerate(xs):\n",
    "        # combine x with all combLenM1 not containing x's processed so Far.\n",
    "        # all xs below i, are already in the list.\n",
    "        yield from [[x] + ct for ct in combsN(xs[i+1:],n-1)]\n",
    "        "
   ]
  },
  {
   "cell_type": "code",
   "execution_count": 5,
   "metadata": {
    "collapsed": false
   },
   "outputs": [
    {
     "name": "stdout",
     "output_type": "stream",
     "text": [
      "[1, 2, 3, 4]\n"
     ]
    }
   ],
   "source": [
    "for x in (combsN([1,2,3,4],4)): print (x)"
   ]
  },
  {
   "cell_type": "code",
   "execution_count": 74,
   "metadata": {
    "collapsed": false
   },
   "outputs": [],
   "source": [
    "import itertools\n",
    "def NQueensE(N):\n",
    "    board = list(itertools.repeat(None,N))\n",
    "    yield from NQueens(board,0)\n",
    "    \n",
    "def NQueens(board,toPlace):\n",
    "    if lost(board): return \n",
    "    # print (board,toPlace)\n",
    "    allPlaced = toPlace == len(board)\n",
    "    if allPlaced: yield board\n",
    "    for (col,row) in enumerate(board):\n",
    "        alreadySet = row !=None\n",
    "        if alreadySet:continue\n",
    "        copy = board[:]    \n",
    "        copy[col] = toPlace\n",
    "        yield from NQueens(copy,toPlace+1)\n",
    "        \n",
    "def lost(board):\n",
    "    for (col, row) in enumerate(board):\n",
    "        notPlaced = row == None\n",
    "        if notPlaced: continue\n",
    "        for (i, rowToCheck) in enumerate(board[col+1:]): \n",
    "            offsetKill = i+1\n",
    "            if rowToCheck == row+offsetKill or rowToCheck == row-offsetKill:\n",
    "                return True\n",
    "    return False        \n",
    "            \n",
    "            "
   ]
  },
  {
   "cell_type": "code",
   "execution_count": 78,
   "metadata": {
    "collapsed": false
   },
   "outputs": [
    {
     "data": {
      "text/plain": [
       "92"
      ]
     },
     "execution_count": 78,
     "metadata": {},
     "output_type": "execute_result"
    }
   ],
   "source": [
    "len(list(NQueensE(8)))"
   ]
  },
  {
   "cell_type": "code",
   "execution_count": null,
   "metadata": {
    "collapsed": true
   },
   "outputs": [],
   "source": [
    "\n",
    "ooo"
   ]
  }
 ],
 "metadata": {
  "anaconda-cloud": {},
  "kernelspec": {
   "display_name": "Python 3",
   "language": "python",
   "name": "python3"
  },
  "language_info": {
   "codemirror_mode": {
    "name": "ipython",
    "version": 3
   },
   "file_extension": ".py",
   "mimetype": "text/x-python",
   "name": "python",
   "nbconvert_exporter": "python",
   "pygments_lexer": "ipython3",
   "version": "3.5.1"
  }
 },
 "nbformat": 4,
 "nbformat_minor": 0
}
