{
 "cells": [
  {
   "cell_type": "code",
   "execution_count": 13,
   "metadata": {
    "collapsed": false
   },
   "outputs": [
    {
     "name": "stdout",
     "output_type": "stream",
     "text": [
      "Steps 1: Ways 1\n",
      "Steps 3: Ways 4\n",
      "Steps 7: Ways 44\n",
      "Steps 36: Ways 2082876103\n"
     ]
    }
   ],
   "source": [
    "# Count the number of ways a kid that can take 1, 2 or 3 steps can make\n",
    "# to cover N steps.\n",
    "\n",
    "\n",
    "def CountSteps(n):\n",
    "    if n < 1:\n",
    "        return 0\n",
    "    if n == 1:\n",
    "        return 1\n",
    "    if n == 2:\n",
    "        return 2\n",
    "    if n == 3:\n",
    "        return 4\n",
    "\n",
    "    prev = (4, 2, 1)\n",
    "    for i in range(3, n):  # HYM, Why do I think it should be off by one?\n",
    "        c = sum(prev)\n",
    "        prev = (c, prev[0], prev[1])  # shift down\n",
    "    return prev[0]\n",
    "\n",
    "\n",
    "for i in [1, 3, 7, 36]:\n",
    "    print(\"Steps {}: Ways {}\".format(i, CountSteps(i)))"
   ]
  },
  {
   "cell_type": "code",
   "execution_count": 5,
   "metadata": {
    "collapsed": false
   },
   "outputs": [
    {
     "name": "stdout",
     "output_type": "stream",
     "text": [
      "{} 11\n"
     ]
    }
   ],
   "source": [
    "print(\"{}\", 11)"
   ]
  },
  {
   "cell_type": "code",
   "execution_count": 18,
   "metadata": {
    "collapsed": false
   },
   "outputs": [],
   "source": [
    "def CountMakeChangeExternal(denoms, total):\n",
    "    if total <= 0:\n",
    "        return 0\n",
    "    if not denoms:\n",
    "        return 0\n",
    "\n",
    "    sorted = denoms.copy()\n",
    "    sorted.sort(reverse=True)\n",
    "    return CountMakeChange(sorted, total)\n",
    "\n",
    "\n",
    "def CountMakeChange(denoms, total):\n",
    "    assert denoms\n",
    "    workDenoms = denoms.copy()\n",
    "    currentCoin = workDenoms.pop()  # pop mutates current.\n",
    "\n",
    "    if total < 0:\n",
    "        return 0\n",
    "    if len(workDenoms) == 0:\n",
    "        return 1 if total % currentCoin == 0 else 0\n",
    "\n",
    "    maxCoin = int(total / currentCoin)\n",
    "    return sum(\n",
    "        [\n",
    "            CountMakeChange(workDenoms, total - i * currentCoin)\n",
    "            for i in range(maxCoin + 1)\n",
    "        ]\n",
    "    )"
   ]
  },
  {
   "cell_type": "code",
   "execution_count": 41,
   "metadata": {
    "collapsed": false
   },
   "outputs": [
    {
     "data": {
      "text/plain": [
       "1"
      ]
     },
     "execution_count": 41,
     "metadata": {},
     "output_type": "execute_result"
    }
   ],
   "source": [
    "CountMakeChangeExternal([5, 3], 14)"
   ]
  },
  {
   "cell_type": "code",
   "execution_count": 20,
   "metadata": {
    "collapsed": false
   },
   "outputs": [
    {
     "data": {
      "text/plain": [
       "141"
      ]
     },
     "execution_count": 20,
     "metadata": {},
     "output_type": "execute_result"
    }
   ],
   "source": [
    "CountMakeChangeExternal([25, 10, 5, 1], 80)"
   ]
  },
  {
   "cell_type": "code",
   "execution_count": 1,
   "metadata": {
    "collapsed": true
   },
   "outputs": [],
   "source": [
    "def combsN(xs, n):\n",
    "    if n == 0:\n",
    "        yield []\n",
    "    for (i, x) in enumerate(xs):\n",
    "        # combine x with all combLenM1 not containing x's processed so Far.\n",
    "        # all xs below i, are already in the list.\n",
    "        yield from [[x] + ct for ct in combsN(xs[i + 1 :], n - 1)]"
   ]
  },
  {
   "cell_type": "code",
   "execution_count": 5,
   "metadata": {
    "collapsed": false
   },
   "outputs": [
    {
     "name": "stdout",
     "output_type": "stream",
     "text": [
      "[1, 2, 3, 4]\n"
     ]
    }
   ],
   "source": [
    "for x in combsN([1, 2, 3, 4], 4):\n",
    "    print(x)"
   ]
  },
  {
   "cell_type": "code",
   "execution_count": 139,
   "metadata": {
    "collapsed": false
   },
   "outputs": [],
   "source": [
    "import itertools\n",
    "\n",
    "\n",
    "def NQueensE(N):\n",
    "    board = list(itertools.repeat(None, N))\n",
    "    yield from NQueens(board, 0)\n",
    "\n",
    "\n",
    "def NQueens(board, toPlace):\n",
    "    if lost(board):\n",
    "        return\n",
    "    # print (board,toPlace)\n",
    "    allPlaced = toPlace == len(board)\n",
    "    if allPlaced:\n",
    "        yield board\n",
    "        return\n",
    "    for (col, row) in enumerate(board):\n",
    "        alreadySet = row != None\n",
    "        if alreadySet:\n",
    "            continue\n",
    "        copy = board[:]\n",
    "        copy[col] = toPlace\n",
    "        yield from NQueens(copy, toPlace + 1)\n",
    "\n",
    "\n",
    "def lost(board):\n",
    "    for (col, row) in enumerate(board):\n",
    "        notPlaced = row == None\n",
    "        if notPlaced:\n",
    "            continue\n",
    "        for (i, rowToCheck) in enumerate(board[col + 1 :]):\n",
    "            offsetKill = i + 1\n",
    "            if rowToCheck == row + offsetKill or rowToCheck == row - offsetKill:\n",
    "                return True\n",
    "    return False"
   ]
  },
  {
   "cell_type": "code",
   "execution_count": 140,
   "metadata": {
    "collapsed": false
   },
   "outputs": [
    {
     "data": {
      "text/plain": [
       "92"
      ]
     },
     "execution_count": 140,
     "metadata": {},
     "output_type": "execute_result"
    }
   ],
   "source": [
    "len(list(NQueensE(8)))"
   ]
  },
  {
   "cell_type": "code",
   "execution_count": 142,
   "metadata": {
    "collapsed": false
   },
   "outputs": [],
   "source": [
    "def genBalancedE(n):\n",
    "    yield from genBalanced(\"\", 0, n, n)\n",
    "\n",
    "\n",
    "def genBalanced(partial, cUnMatchedOpen, rOpen, rClosed):\n",
    "    # print (partial,cUnMatchedOpen,rOpen,rClosed)\n",
    "    full = (rOpen + rClosed) == 0\n",
    "    if full:\n",
    "        yield partial\n",
    "        return\n",
    "    # always place an open if available\n",
    "    if rOpen > 0:\n",
    "        yield from genBalanced(partial + \"(\", cUnMatchedOpen + 1, rOpen - 1, rClosed)\n",
    "\n",
    "    # place a close IF there's a close to match\n",
    "    if cUnMatchedOpen > 0:\n",
    "        yield from genBalanced(partial + \")\", cUnMatchedOpen - 1, rOpen, rClosed - 1)"
   ]
  },
  {
   "cell_type": "code",
   "execution_count": 144,
   "metadata": {
    "collapsed": false
   },
   "outputs": [
    {
     "name": "stdout",
     "output_type": "stream",
     "text": [
      "['((((()))))', '(((()())))', '(((())()))', '(((()))())', '(((())))()', '((()(())))', '((()()()))', '((()())())', '((()()))()', '((())(()))', '((())()())', '((())())()', '((()))(())', '((()))()()', '(()((())))', '(()(()()))', '(()(())())', '(()(()))()', '(()()(()))', '(()()()())', '(()()())()', '(()())(())', '(()())()()', '(())((()))', '(())(()())', '(())(())()', '(())()(())', '(())()()()', '()(((())))', '()((()()))', '()((())())', '()((()))()', '()(()(()))', '()(()()())', '()(()())()', '()(())(())', '()(())()()', '()()((()))', '()()(()())', '()()(())()', '()()()(())', '()()()()()']\n"
     ]
    }
   ],
   "source": [
    "print(list(genBalancedE(5)))"
   ]
  },
  {
   "cell_type": "code",
   "execution_count": null,
   "metadata": {},
   "outputs": [],
   "source": [
    "def decomposePalindrome(s):\n",
    "    if len(s) == 0:\n",
    "        yield []\n",
    "        return\n",
    "    for (i, x) in enumerate(s):\n",
    "        head = s[: i + 1]\n",
    "        if isPalindrome(head):\n",
    "            yield from [[head] + subPal for subPal in decomposePalindrome(s[i + 1 :])]\n",
    "\n",
    "\n",
    "def isPalindrome(s):\n",
    "    for start, end, _ in zip(s, reversed(s), range(int(len(s) / 2))):\n",
    "        if start != end:\n",
    "            return False\n",
    "    return True\n",
    "\n",
    "\n",
    "print(isPalindrome(\"ab\"))\n",
    "print(isPalindrome(\"a\"))\n",
    "print(isPalindrome(\"ab\"))\n",
    "print(isPalindrome(\"bb\"))\n",
    "print(\"----\")\n",
    "print(list(decomposePalindrome(\"abba\")))\n",
    "print(list(decomposePalindrome(\"abbac\")))\n",
    "print(\"----\")\n",
    "print(list(decomposePalindrome(\"a\")))\n",
    "print(\"----\")\n",
    "print(list(decomposePalindrome(\"ab\")))\n",
    "print(\"----\")\n",
    "print(list(decomposePalindrome(\"ecc\")))"
   ]
  },
  {
   "cell_type": "code",
   "execution_count": 31,
   "metadata": {
    "collapsed": false
   },
   "outputs": [],
   "source": [
    "def between(t, s, e):\n",
    "    return t >= s and t <= e\n",
    "\n",
    "\n",
    "def isRotated(s, e):\n",
    "    return s > e\n",
    "\n",
    "\n",
    "def onLeft(xs, t, s, m, e):\n",
    "    vS = xs[s]\n",
    "    vE = xs[e]\n",
    "    vM = xs[m]\n",
    "\n",
    "    # no rotation on left\n",
    "    if not isRotated(vS, vM):\n",
    "        return between(t, vS, vM)\n",
    "\n",
    "    # no rotation on the right\n",
    "    return not between(t, vM, vE)\n",
    "\n",
    "\n",
    "def findRotatedE(xs, t):\n",
    "    return findRotated(xs, t, 0, len(xs) - 1)\n",
    "\n",
    "\n",
    "def findRotated(xs, t, s, e):\n",
    "    noElements = s > e\n",
    "    if noElements:\n",
    "        return None\n",
    "    iMid = int((s + e) / 2)\n",
    "    vMid = xs[iMid]\n",
    "    if vMid == t:\n",
    "        return iMid\n",
    "    if onLeft(xs, t, s, iMid, e):\n",
    "        return findRotated(xs, t, s, iMid - 1)\n",
    "    else:\n",
    "        return findRotated(xs, t, iMid + 1, e)"
   ]
  },
  {
   "cell_type": "code",
   "execution_count": 29,
   "metadata": {
    "collapsed": false
   },
   "outputs": [
    {
     "data": {
      "text/plain": [
       "4"
      ]
     },
     "execution_count": 29,
     "metadata": {},
     "output_type": "execute_result"
    }
   ],
   "source": [
    "xs = [99, 0, 15, 23, 40, 98]\n",
    "findRotatedE(xs, 40)"
   ]
  },
  {
   "cell_type": "code",
   "execution_count": null,
   "metadata": {
    "collapsed": true
   },
   "outputs": [],
   "source": []
  },
  {
   "cell_type": "code",
   "execution_count": null,
   "metadata": {
    "collapsed": true
   },
   "outputs": [],
   "source": []
  },
  {
   "cell_type": "code",
   "execution_count": null,
   "metadata": {
    "collapsed": true
   },
   "outputs": [],
   "source": []
  }
 ],
 "metadata": {
  "anaconda-cloud": {},
  "kernelspec": {
   "display_name": "Python 3",
   "language": "python",
   "name": "python3"
  },
  "language_info": {
   "codemirror_mode": {
    "name": "ipython",
    "version": 3
   },
   "file_extension": ".py",
   "mimetype": "text/x-python",
   "name": "python",
   "nbconvert_exporter": "python",
   "pygments_lexer": "ipython3",
   "version": "3.7.1"
  }
 },
 "nbformat": 4,
 "nbformat_minor": 2
}
