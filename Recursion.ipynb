{
 "cells": [
  {
   "cell_type": "code",
   "execution_count": 20,
   "metadata": {
    "collapsed": false
   },
   "outputs": [
    {
     "data": {
      "text/plain": [
       "'1:4 4:7 362082876103'"
      ]
     },
     "execution_count": 20,
     "metadata": {},
     "output_type": "execute_result"
    }
   ],
   "source": [
    "def CountSteps(n):\n",
    "    if n < 1: return 0 \n",
    "    if n == 1: return 1\n",
    "    if n == 2: return 2\n",
    "    if n == 3: return 4\n",
    "    \n",
    "    prev = (4,2,1)\n",
    "    for i in range(3,n): # HYM, Why do I think it should be off by one?\n",
    "        c = sum(prev) \n",
    "        prev = (c,prev[0], prev[1]) # shift down\n",
    "    return prev[0]\n",
    "\"1:{} 4:{} 36{}\".format(CountSteps(3),CountSteps(4) , CountSteps(36))"
   ]
  },
  {
   "cell_type": "code",
   "execution_count": 18,
   "metadata": {
    "collapsed": false
   },
   "outputs": [
    {
     "data": {
      "text/plain": [
       "'4 7 2082876103'"
      ]
     },
     "execution_count": 18,
     "metadata": {},
     "output_type": "execute_result"
    }
   ],
   "source": []
  },
  {
   "cell_type": "code",
   "execution_count": 27,
   "metadata": {
    "collapsed": false
   },
   "outputs": [],
   "source": [
    "def CountMakeChangeExternal(denoms,total):\n",
    "    if total <= 0: return 0\n",
    "    if not denoms: return 0\n",
    "    if len(denoms) < 1: return 0 \n",
    "    \n",
    "    sorted = denoms.copy()\n",
    "    sorted.sort(reverse=True)\n",
    "    return CountMakeChange(sorted,total)\n",
    "    \n",
    "    \n",
    "def CountMakeChange(denoms, total):\n",
    "    assert(len(denoms)>=1)\n",
    "    workDenoms = denoms.copy()\n",
    "    currentCoin = workDenoms.pop() #pop mutates current.\n",
    "    \n",
    "    if total < 0: return 0\n",
    "    if len(workDenoms) == 0:\n",
    "        return 1 if total% currentCoin == 0 else 0 \n",
    "            \n",
    "    maxCoin = int(total/currentCoin)\n",
    "    return sum ([CountMakeChange(workDenoms,total-i*currentCoin) for i in range (maxCoin+1)])"
   ]
  },
  {
   "cell_type": "code",
   "execution_count": 41,
   "metadata": {
    "collapsed": false
   },
   "outputs": [
    {
     "data": {
      "text/plain": [
       "1"
      ]
     },
     "execution_count": 41,
     "metadata": {},
     "output_type": "execute_result"
    }
   ],
   "source": [
    "CountMakeChangeExternal([5,3],14 )"
   ]
  },
  {
   "cell_type": "code",
   "execution_count": null,
   "metadata": {
    "collapsed": true
   },
   "outputs": [],
   "source": []
  }
 ],
 "metadata": {
  "kernelspec": {
   "display_name": "Python 3",
   "language": "python",
   "name": "python3"
  },
  "language_info": {
   "codemirror_mode": {
    "name": "ipython",
    "version": 3
   },
   "file_extension": ".py",
   "mimetype": "text/x-python",
   "name": "python",
   "nbconvert_exporter": "python",
   "pygments_lexer": "ipython3",
   "version": "3.5.1"
  }
 },
 "nbformat": 4,
 "nbformat_minor": 0
}
