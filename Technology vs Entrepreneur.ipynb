{
 "cells": [
  {
   "cell_type": "markdown",
   "metadata": {},
   "source": [
    "## Igor's Evolution from Technologist to Entrepreneur\n",
    "\n",
    "**Entrepreneurs say** - What does my customer need? How do I make sure their needs are met?\n",
    "\n",
    "**Technologists say** - What's the most I can do with my technology? How do I push the limits of my technology?\n",
    "\n",
    "As I've gotten older, I've realized I can provide more value to world by focusing on customer problems.  Because of my long career as a technologist, I still love technology and ensure technologists focus the maximum effort on solving the customer need, and not  scratching their 'technological itch'."
   ]
  },
  {
   "cell_type": "code",
   "execution_count": null,
   "metadata": {},
   "outputs": [],
   "source": [
    "%pylab inline\n",
    "plt.xkcd()\n",
    "\n",
    "start_year = 2002\n",
    "end_year = 2018\n",
    "interest_shift_year = 2014\n",
    "\n",
    "years = np.linspace(start_year, end_year)\n",
    "interest_entrepener = 2 + 98.0 / (1 + np.exp(0.6 * (interest_shift_year - years)))\n",
    "interest_technologist = maximum(\n",
    "    (100 - interest_entrepener), 50 + 10 * (sin(50 * years))\n",
    ")\n",
    "interest_entrepener = minimum(interest_entrepener, 70 + 10 * (sin(40 * years)))\n",
    "\n",
    "plt.plot(years, interest_entrepener, \"-b\", label=\"Entrepreneur\")\n",
    "plt.plot(years, interest_technologist, \"-r\", label=\"Technologist\")\n",
    "plt.ylabel(\"Identity\")\n",
    "plt.xlabel(\"Year\")\n",
    "\n",
    "plt.xlim(start_year, end_year)\n",
    "plt.legend(loc=\"best\")"
   ]
  },
  {
   "cell_type": "markdown",
   "metadata": {},
   "source": [
    "_The irony that I've written this entire post using complex technology is not lost on me. This post was to satisfy my own 'technological itch'_"
   ]
  }
 ],
 "metadata": {
  "anaconda-cloud": {},
  "kernelspec": {
   "display_name": "Python [Root]",
   "language": "python",
   "name": "Python [Root]"
  },
  "language_info": {
   "codemirror_mode": {
    "name": "ipython",
    "version": 3
   },
   "file_extension": ".py",
   "mimetype": "text/x-python",
   "name": "python",
   "nbconvert_exporter": "python",
   "pygments_lexer": "ipython3",
   "version": "3.5.2"
  }
 },
 "nbformat": 4,
 "nbformat_minor": 2
}
